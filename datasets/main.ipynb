{
 "cells": [
  {
   "cell_type": "code",
   "execution_count": 48,
   "metadata": {},
   "outputs": [],
   "source": [
    "import numpy as np\n",
    "import pandas as pd\n",
    "import matplotlib.pyplot as plt\n",
    "import seaborn as sns\n",
    "import plotly.express as px"
   ]
  },
  {
   "cell_type": "markdown",
   "metadata": {},
   "source": [
    "EPL Players:"
   ]
  },
  {
   "cell_type": "code",
   "execution_count": 49,
   "metadata": {},
   "outputs": [],
   "source": [
    "defensive_df = pd.read_csv(r'C:\\Users\\tobia\\SkoleShit\\valgfag\\BI\\FootballNotebook\\datasets\\players\\player_premier_league_defensive.csv')\n",
    "passing_df = pd.read_csv(r'C:\\Users\\tobia\\SkoleShit\\valgfag\\BI\\FootballNotebook\\datasets\\players\\player_premier_league_passing.csv')\n",
    "passing_type_df = pd.read_csv(r'C:\\Users\\tobia\\SkoleShit\\valgfag\\BI\\FootballNotebook\\datasets\\players\\player_premier_league_passing_type.csv')\n",
    "possession_df = pd.read_csv(r'C:\\Users\\tobia\\SkoleShit\\valgfag\\BI\\FootballNotebook\\datasets\\players\\player_premier_league_possession.csv')\n",
    "shooting_df = pd.read_csv(r'C:\\Users\\tobia\\SkoleShit\\valgfag\\BI\\FootballNotebook\\datasets\\players\\player_premier_league_shooting.csv')\n",
    "stats_df = pd.read_csv(r'C:\\Users\\tobia\\SkoleShit\\valgfag\\BI\\FootballNotebook\\datasets\\players\\player_premier_league_stats.csv')"
   ]
  },
  {
   "cell_type": "code",
   "execution_count": null,
   "metadata": {},
   "outputs": [],
   "source": [
    "defensive_df"
   ]
  },
  {
   "cell_type": "code",
   "execution_count": null,
   "metadata": {},
   "outputs": [],
   "source": [
    "defensive_df.info()"
   ]
  },
  {
   "cell_type": "markdown",
   "metadata": {},
   "source": [
    "lets try to make some graphs:"
   ]
  },
  {
   "cell_type": "code",
   "execution_count": null,
   "metadata": {},
   "outputs": [],
   "source": [
    "# Sort the DataFrame by interceptions in descending order\n",
    "top_interceptors = defensive_df.sort_values(by='Intercept', ascending=False).head(10)\n",
    "\n",
    "# Create an interactive bar chart\n",
    "fig = px.bar(top_interceptors, x='Player', y='Intercept', color='Age',\n",
    "             title='Top 10 Players with the Most Interceptions and Their Ages',\n",
    "             labels={'Intercept': 'Number of Interceptions', 'Player': 'Player Name'},\n",
    "             hover_data=['Squad', 'Nation'])\n",
    "\n",
    "# Customize layout\n",
    "fig.update_layout(xaxis_title='Player Name', yaxis_title='Number of Interceptions')\n",
    "\n",
    "# Show the interactive plot\n",
    "fig.show()\n"
   ]
  },
  {
   "cell_type": "code",
   "execution_count": null,
   "metadata": {},
   "outputs": [],
   "source": [
    "defensive_df"
   ]
  },
  {
   "cell_type": "code",
   "execution_count": null,
   "metadata": {},
   "outputs": [],
   "source": [
    "# Assuming 'Tackle_Intercept' is the column you want to use\n",
    "fig = px.scatter(defensive_df, x='Age', y='Tackle_Intercept', size='Tackle_Intercept',\n",
    "                 color='Pos', hover_name='Player', facet_col='Pos',\n",
    "                 title='Age vs Total Tackles + Interceptions by Position',\n",
    "                 labels={'Age': 'Player Age', 'Tackle_Intercept': 'Total Tackles + Interceptions'},\n",
    "                 size_max=15)\n",
    "\n",
    "# Customize layout\n",
    "fig.update_layout(xaxis_title='Player Age', yaxis_title='Total Tackles + Interceptions')\n",
    "\n",
    "# Show the interactive plot\n",
    "fig.show()"
   ]
  },
  {
   "cell_type": "code",
   "execution_count": null,
   "metadata": {},
   "outputs": [],
   "source": [
    "# Create a scatter plot\n",
    "fig = px.scatter(defensive_df, x='Age', y='Total_Tackle', color='Pos',\n",
    "                 size='Intercept', hover_name='Player',\n",
    "                 title='Age vs Total Tackles with Interception Size',\n",
    "                 labels={'Age': 'Player Age', 'Total_Tackle': 'Total Tackles'},\n",
    "                 size_max=15)\n",
    "\n",
    "# Customize layout\n",
    "fig.update_layout(xaxis_title='Player Age', yaxis_title='Total Tackles')\n",
    "\n",
    "# Show the interactive plot\n",
    "fig.show()"
   ]
  },
  {
   "cell_type": "code",
   "execution_count": null,
   "metadata": {},
   "outputs": [],
   "source": [
    "# Aggregate defensive actions by position\n",
    "defensive_position_distribution = defensive_df.groupby('Pos')[['Total_Tackle', 'Tackle_Won', 'Intercept', 'Clearances', 'Ball_Blocked']].sum()\n",
    "\n",
    "# Create a stacked bar chart\n",
    "fig = px.bar(defensive_position_distribution, barmode='stack',\n",
    "             title='Defensive Actions Distribution by Player Position',\n",
    "             labels={'value': 'Total Count', 'variable': 'Defensive Action'},\n",
    "             hover_name=defensive_position_distribution.index,\n",
    "             color_discrete_sequence=px.colors.qualitative.Set1)\n",
    "\n",
    "# Customize layout\n",
    "fig.update_layout(xaxis_title='Player Position', yaxis_title='Total Count',\n",
    "                  legend_title='Defensive Action', showlegend=True)\n",
    "\n",
    "# Show the interactive plot\n",
    "fig.show()"
   ]
  },
  {
   "cell_type": "code",
   "execution_count": null,
   "metadata": {},
   "outputs": [],
   "source": [
    "# Choose a specific team (replace 'Manchester City' with the desired team)\n",
    "selected_team = 'Arsenal'\n",
    "\n",
    "# Filter the DataFrame for the selected team\n",
    "team_df = defensive_df[defensive_df['Squad'] == selected_team]\n",
    "\n",
    "# Sort the DataFrame by total tackles in descending order and select the top 5 players\n",
    "top_players_man_city = team_df.sort_values(by='Total_Tackle', ascending=False).head(5)\n",
    "\n",
    "# Create a bar chart\n",
    "fig = px.bar(top_players_man_city, x='Player', y='Total_Tackle',\n",
    "             title=f'Top 5 Players in {selected_team} by Total Tackles',\n",
    "             labels={'Total_Tackle': 'Total Tackles', 'Player': 'Player Name'},\n",
    "             color='Pos', text='Total_Tackle')\n",
    "\n",
    "# Customize layout\n",
    "fig.update_layout(xaxis_title='Player Name', yaxis_title='Total Tackles')\n",
    "\n",
    "# Show the interactive plot\n",
    "fig.show()"
   ]
  },
  {
   "cell_type": "code",
   "execution_count": null,
   "metadata": {},
   "outputs": [],
   "source": [
    "# Create a new column for the combined total of tackles and interceptions\n",
    "defensive_df['Tackle_Intercept_Total'] = defensive_df['Total_Tackle'] + defensive_df['Intercept']\n",
    "\n",
    "# Sort the DataFrame by the combined total in descending order\n",
    "top_defensive_players = defensive_df.sort_values(by='Tackle_Intercept_Total', ascending=False).head(10)\n",
    "\n",
    "# Create an interactive bar chart\n",
    "fig = px.bar(top_defensive_players, x='Player', y='Tackle_Intercept_Total', color='Pos',\n",
    "             title='Top 10 Players with the Most Tackles and Interceptions Combined',\n",
    "             labels={'Tackle_Intercept_Total': 'Total Tackles + Interceptions', 'Player': 'Player Name'},\n",
    "             hover_data=['Squad', 'Nation'])\n",
    "\n",
    "# Customize layout\n",
    "fig.update_layout(xaxis_title='Player Name', yaxis_title='Total Tackles + Interceptions')\n",
    "\n",
    "# Show the interactive plot\n",
    "fig.show()"
   ]
  },
  {
   "cell_type": "code",
   "execution_count": null,
   "metadata": {},
   "outputs": [],
   "source": [
    "# Select relevant defensive columns\n",
    "defensive_columns = ['Total_Tackle', 'Tackle_Won', 'Intercept', 'Clearances', 'Ball_Blocked']\n",
    "\n",
    "# Subset the dataframe with defensive columns\n",
    "defensive_subset = defensive_df[defensive_columns]\n",
    "\n",
    "# Calculate the correlation matrix\n",
    "correlation_matrix = defensive_subset.corr()\n",
    "\n",
    "# Plot the heatmap\n",
    "fig = px.imshow(correlation_matrix, x=defensive_columns, y=defensive_columns,\n",
    "                labels=dict(x=\"Defensive Metrics\", y=\"Defensive Metrics\", color=\"Correlation\"),\n",
    "                title='Correlation Heatmap for Defensive Metrics')\n",
    "\n",
    "# Show the interactive plot\n",
    "fig.show()"
   ]
  },
  {
   "cell_type": "code",
   "execution_count": null,
   "metadata": {},
   "outputs": [],
   "source": [
    "# Create a sunburst chart\n",
    "fig = px.sunburst(defensive_df, path=['Squad', 'Pos'], \n",
    "                  title='Player Position Distribution in Squads',\n",
    "                  labels={'Squad': 'Team', 'Pos': 'Position'},\n",
    "                  hover_data=['Player', 'Nation'])\n",
    "\n",
    "# Customize layout\n",
    "fig.update_layout(margin=dict(l=0, r=0, b=0, t=30))\n",
    "\n",
    "# Show the interactive plot\n",
    "fig.show()"
   ]
  },
  {
   "cell_type": "code",
   "execution_count": null,
   "metadata": {},
   "outputs": [],
   "source": [
    "# Sort the DataFrame by interceptions in descending order\n",
    "top_interceptions = defensive_df.sort_values(by='Intercept', ascending=False).head(10)\n",
    "\n",
    "# Create an interactive bar chart\n",
    "fig = px.bar(top_interceptions, x='Player', y='Intercept', color='Pos',\n",
    "             title='Top 10 Players with the Most Interceptions',\n",
    "             labels={'Intercept': 'Number of Interceptions', 'Player': 'Player Name'},\n",
    "             hover_data=['Squad', 'Nation'])\n",
    "\n",
    "# Customize layout\n",
    "fig.update_layout(xaxis_title='Player Name', yaxis_title='Number of Interceptions')\n",
    "\n",
    "# Show the interactive plot\n",
    "fig.show()"
   ]
  },
  {
   "cell_type": "code",
   "execution_count": null,
   "metadata": {},
   "outputs": [],
   "source": [
    "passing_df"
   ]
  },
  {
   "cell_type": "code",
   "execution_count": null,
   "metadata": {},
   "outputs": [],
   "source": [
    "passing_df.info()"
   ]
  },
  {
   "cell_type": "code",
   "execution_count": null,
   "metadata": {},
   "outputs": [],
   "source": [
    "# Scatter plot showing TotalComp_Passes vs TotalAtt_Pass with color-coded points based on Nation\n",
    "fig = px.scatter(passing_df, \n",
    "                 x='TotalAtt_Pass', \n",
    "                 y='TotalComp_Passes', \n",
    "                 color='Nation', \n",
    "                 hover_data=['Player', 'Squad'],\n",
    "                 title='Total Completed Passes vs Total Attempted Passes',\n",
    "                 labels={'TotalAtt_Pass': 'Total Attempted Passes', 'TotalComp_Passes': 'Total Completed Passes'},\n",
    "                 )\n",
    "\n",
    "# Show the plot\n",
    "fig.show()"
   ]
  },
  {
   "cell_type": "code",
   "execution_count": null,
   "metadata": {},
   "outputs": [],
   "source": [
    "# Scatter plot: Total Completed Passes vs. Passing Accuracy\n",
    "fig_scatter = px.scatter(passing_df, x='TotalComp_Passes', y='TotalPas_Rate',\n",
    "                         color='Pos', size='Age', hover_data=['Player', 'Squad'],\n",
    "                         title='Total Completed Passes vs. Passing Accuracy',\n",
    "                         labels={'TotalComp_Passes': 'Total Completed Passes',\n",
    "                                 'TotalPas_Rate': 'Passing Accuracy'},\n",
    "                         size_max=15)\n",
    "\n",
    "# Distribution plot: Passing Accuracy\n",
    "fig_distribution = px.histogram(passing_df, x='TotalPas_Rate', color='Pos',\n",
    "                                title='Distribution of Passing Accuracy',\n",
    "                                labels={'TotalPas_Rate': 'Passing Accuracy'},\n",
    "                                marginal='box')\n",
    "\n",
    "# Show the interactive plots\n",
    "fig_scatter.show()\n",
    "fig_distribution.show()"
   ]
  },
  {
   "cell_type": "code",
   "execution_count": null,
   "metadata": {},
   "outputs": [],
   "source": [
    "# Selecting numerical columns from passing_df\n",
    "numerical_passing_df = passing_df.select_dtypes(include=['number'])\n",
    "\n",
    "# Create a heatmap for passing metrics correlation\n",
    "fig_heatmap = px.imshow(numerical_passing_df.corr(),\n",
    "                        labels=dict(color='Correlation'),\n",
    "                        x=numerical_passing_df.columns,\n",
    "                        y=numerical_passing_df.columns,\n",
    "                        title='Correlation Heatmap for Passing Metrics')\n",
    "\n",
    "# Customize layout\n",
    "fig_heatmap.update_layout(coloraxis_colorbar=dict(title='Correlation'))\n",
    "\n",
    "# Show the interactive heatmap\n",
    "fig_heatmap.show()"
   ]
  },
  {
   "cell_type": "code",
   "execution_count": null,
   "metadata": {},
   "outputs": [],
   "source": [
    "# Sort the entire passing DataFrame by total completed passes in descending order\n",
    "sorted_passing_df = passing_df.sort_values(by='TotalComp_Passes', ascending=False)\n",
    "\n",
    "# Select the top N players (adjust N as needed)\n",
    "top_players = 15\n",
    "\n",
    "# Create a bar chart for the top players\n",
    "fig = px.bar(sorted_passing_df.head(top_players), x='Player', y='TotalComp_Passes',\n",
    "             title=f'Top {top_players} Players with the Most Completed Passes',\n",
    "             labels={'TotalComp_Passes': 'Total Completed Passes', 'Player': 'Player Name'},\n",
    "             color='Pos', text='TotalComp_Passes',\n",
    "             hover_data=['Squad', 'Pos', 'TotalComp_Passes'])\n",
    "\n",
    "# Customize layout\n",
    "fig.update_layout(xaxis_title='Player Name', yaxis_title='Total Completed Passes')\n",
    "\n",
    "# Show the interactive plot\n",
    "fig.show()"
   ]
  },
  {
   "cell_type": "code",
   "execution_count": null,
   "metadata": {},
   "outputs": [],
   "source": [
    "# Grouping passing data by team and calculating the total completed passes\n",
    "team_passing_stats = passing_df.groupby('Squad')['TotalComp_Passes'].sum().reset_index()\n",
    "\n",
    "# Create a bar chart for total completed passes by team\n",
    "fig_bar = px.bar(team_passing_stats, x='Squad', y='TotalComp_Passes',\n",
    "                 title='Total Completed Passes by Team',\n",
    "                 labels={'Squad': 'Team', 'TotalComp_Passes': 'Total Completed Passes'},\n",
    "                 color='TotalComp_Passes')\n",
    "\n",
    "# Customize layout\n",
    "fig_bar.update_layout(xaxis_title='Team', yaxis_title='Total Completed Passes',\n",
    "                      coloraxis_colorbar=dict(title='Total Completed Passes'))\n",
    "\n",
    "# Show the interactive bar chart\n",
    "fig_bar.show()"
   ]
  },
  {
   "cell_type": "code",
   "execution_count": null,
   "metadata": {},
   "outputs": [],
   "source": [
    "# Replace NaN values in 'TotalPas_Rate' with a default size\n",
    "default_size = 10\n",
    "passing_df['TotalPas_Rate'].fillna(default_size, inplace=True)\n",
    "\n",
    "# Create a scatter plot for passing efficiency\n",
    "fig_scatter = px.scatter(passing_df, x='TotalAtt_Pass', y='TotalComp_Passes',\n",
    "                         color='Squad', size='TotalPas_Rate',\n",
    "                         title='Scatter Plot of Passing Efficiency',\n",
    "                         labels={'TotalAtt_Pass': 'Total Attempted Passes',\n",
    "                                 'TotalComp_Passes': 'Total Completed Passes',\n",
    "                                 'TotalPas_Rate': 'Passing Accuracy'},\n",
    "                         hover_name='Player')\n",
    "\n",
    "# Customize layout\n",
    "fig_scatter.update_layout(xaxis_title='Total Attempted Passes',\n",
    "                          yaxis_title='Total Completed Passes',\n",
    "                          coloraxis_colorbar=dict(title='Squad'),\n",
    "                          showlegend=True)\n",
    "\n",
    "# Show the interactive scatter plot\n",
    "fig_scatter.show()"
   ]
  },
  {
   "cell_type": "code",
   "execution_count": null,
   "metadata": {},
   "outputs": [],
   "source": [
    "passing_type_df"
   ]
  },
  {
   "cell_type": "code",
   "execution_count": null,
   "metadata": {},
   "outputs": [],
   "source": [
    "passing_type_df.info()"
   ]
  },
  {
   "cell_type": "code",
   "execution_count": null,
   "metadata": {},
   "outputs": [],
   "source": [
    "import plotly.express as px\n",
    "\n",
    "# Bar chart - Average Pass Blocked by Position\n",
    "avg_pass_blocked_by_pos = passing_type_df.groupby('Pos')['Pass_Blocked'].mean().reset_index()\n",
    "\n",
    "fig_bar = px.bar(avg_pass_blocked_by_pos, \n",
    "                 x='Pos', \n",
    "                 y='Pass_Blocked',\n",
    "                 color='Pos',\n",
    "                 labels={'Pass_Blocked': 'Average Pass Blocked'},\n",
    "                 title='Average Pass Blocked by Position')\n",
    "\n",
    "fig_bar.update_layout(\n",
    "    xaxis_title='Position',\n",
    "    yaxis_title='Average Pass Blocked',\n",
    "    showlegend=False\n",
    ")\n",
    "\n",
    "fig_bar.show()"
   ]
  },
  {
   "cell_type": "code",
   "execution_count": null,
   "metadata": {},
   "outputs": [],
   "source": [
    "import plotly.express as px\n",
    "\n",
    "# Histogram - Distribution of Player Ages\n",
    "fig_age_histogram = px.histogram(passing_type_df, \n",
    "                                 x='Age', \n",
    "                                 nbins=20, \n",
    "                                 title='Distribution of Player Ages',\n",
    "                                 labels={'Age': 'Player Age'})\n",
    "\n",
    "fig_age_histogram.update_layout(\n",
    "    xaxis_title='Player Age',\n",
    "    yaxis_title='Count'\n",
    ")\n",
    "\n",
    "# Scatter plot - Relationship between Total Attempts and Cross Passes\n",
    "fig_scatter = px.scatter(passing_type_df, \n",
    "                         x='TotalAtt_Pass', \n",
    "                         y='Cross_Passes', \n",
    "                         color='Pos',\n",
    "                         size='90s_played',\n",
    "                         hover_data=['Player', 'Squad', 'Age'],\n",
    "                         title='Total Attempts vs Cross Passes')\n",
    "\n",
    "fig_scatter.update_layout(\n",
    "    xaxis_title='Total Attempts',\n",
    "    yaxis_title='Cross Passes',\n",
    "    showlegend=True\n",
    ")\n",
    "\n",
    "# Show both figures\n",
    "fig_age_histogram.show()\n",
    "fig_scatter.show()"
   ]
  },
  {
   "cell_type": "code",
   "execution_count": null,
   "metadata": {},
   "outputs": [],
   "source": [
    "# Selecting only numeric columns for correlation calculation\n",
    "numeric_columns = passing_type_df.select_dtypes(include=['float64', 'int64'])\n",
    "\n",
    "# Correlation Heatmap\n",
    "correlation_matrix = numeric_columns.corr()\n",
    "\n",
    "fig_heatmap = px.imshow(correlation_matrix,\n",
    "                        color_continuous_scale='Viridis',\n",
    "                        labels=dict(color='Correlation'),\n",
    "                        title='Correlation Matrix of Numerical Columns')\n",
    "\n",
    "# Box plot - Distribution of '90s_played' across Player Positions\n",
    "fig_box_plot = px.box(passing_type_df, \n",
    "                      x='Pos', \n",
    "                      y='90s_played',\n",
    "                      color='Pos',\n",
    "                      points='all',\n",
    "                      title='Distribution of 90s Played Across Player Positions')\n",
    "\n",
    "fig_box_plot.update_layout(\n",
    "    xaxis_title='Player Position',\n",
    "    yaxis_title='90s Played',\n",
    "    showlegend=False\n",
    ")\n",
    "\n",
    "# Show both figures\n",
    "fig_heatmap.show()\n",
    "fig_box_plot.show()"
   ]
  },
  {
   "cell_type": "code",
   "execution_count": 50,
   "metadata": {},
   "outputs": [
    {
     "data": {
      "text/html": [
       "<div>\n",
       "<style scoped>\n",
       "    .dataframe tbody tr th:only-of-type {\n",
       "        vertical-align: middle;\n",
       "    }\n",
       "\n",
       "    .dataframe tbody tr th {\n",
       "        vertical-align: top;\n",
       "    }\n",
       "\n",
       "    .dataframe thead th {\n",
       "        text-align: right;\n",
       "    }\n",
       "</style>\n",
       "<table border=\"1\" class=\"dataframe\">\n",
       "  <thead>\n",
       "    <tr style=\"text-align: right;\">\n",
       "      <th></th>\n",
       "      <th>Unnamed: 0</th>\n",
       "      <th>Player</th>\n",
       "      <th>Nation</th>\n",
       "      <th>Pos</th>\n",
       "      <th>Squad</th>\n",
       "      <th>Age</th>\n",
       "      <th>90s_played</th>\n",
       "      <th>TotalAtt_Pass</th>\n",
       "      <th>TotalComp_Passes</th>\n",
       "      <th>Pass_Blocked</th>\n",
       "      <th>Live_Passes</th>\n",
       "      <th>Dead_Passes</th>\n",
       "      <th>Switches_Pass</th>\n",
       "      <th>Cross_Passes</th>\n",
       "    </tr>\n",
       "  </thead>\n",
       "  <tbody>\n",
       "    <tr>\n",
       "      <th>0</th>\n",
       "      <td>0</td>\n",
       "      <td>Brenden Aaronson</td>\n",
       "      <td>us USA</td>\n",
       "      <td>MF,FW</td>\n",
       "      <td>Leeds United</td>\n",
       "      <td>21</td>\n",
       "      <td>26.4</td>\n",
       "      <td>797</td>\n",
       "      <td>592</td>\n",
       "      <td>27</td>\n",
       "      <td>711</td>\n",
       "      <td>85</td>\n",
       "      <td>2</td>\n",
       "      <td>72</td>\n",
       "    </tr>\n",
       "    <tr>\n",
       "      <th>1</th>\n",
       "      <td>1</td>\n",
       "      <td>George Abbott</td>\n",
       "      <td>eng ENG</td>\n",
       "      <td>MF</td>\n",
       "      <td>Tottenham</td>\n",
       "      <td>16</td>\n",
       "      <td>0.0</td>\n",
       "      <td>1</td>\n",
       "      <td>1</td>\n",
       "      <td>0</td>\n",
       "      <td>1</td>\n",
       "      <td>0</td>\n",
       "      <td>0</td>\n",
       "      <td>0</td>\n",
       "    </tr>\n",
       "    <tr>\n",
       "      <th>2</th>\n",
       "      <td>2</td>\n",
       "      <td>Che Adams</td>\n",
       "      <td>sct SCO</td>\n",
       "      <td>FW</td>\n",
       "      <td>Southampton</td>\n",
       "      <td>26</td>\n",
       "      <td>22.1</td>\n",
       "      <td>498</td>\n",
       "      <td>330</td>\n",
       "      <td>17</td>\n",
       "      <td>490</td>\n",
       "      <td>7</td>\n",
       "      <td>7</td>\n",
       "      <td>12</td>\n",
       "    </tr>\n",
       "    <tr>\n",
       "      <th>3</th>\n",
       "      <td>3</td>\n",
       "      <td>Tyler Adams</td>\n",
       "      <td>us USA</td>\n",
       "      <td>MF</td>\n",
       "      <td>Leeds United</td>\n",
       "      <td>23</td>\n",
       "      <td>24.0</td>\n",
       "      <td>1343</td>\n",
       "      <td>1108</td>\n",
       "      <td>24</td>\n",
       "      <td>1271</td>\n",
       "      <td>72</td>\n",
       "      <td>2</td>\n",
       "      <td>2</td>\n",
       "    </tr>\n",
       "    <tr>\n",
       "      <th>4</th>\n",
       "      <td>4</td>\n",
       "      <td>Tosin Adarabioyo</td>\n",
       "      <td>eng ENG</td>\n",
       "      <td>DF</td>\n",
       "      <td>Fulham</td>\n",
       "      <td>24</td>\n",
       "      <td>23.2</td>\n",
       "      <td>1300</td>\n",
       "      <td>1066</td>\n",
       "      <td>10</td>\n",
       "      <td>1235</td>\n",
       "      <td>58</td>\n",
       "      <td>12</td>\n",
       "      <td>2</td>\n",
       "    </tr>\n",
       "    <tr>\n",
       "      <th>...</th>\n",
       "      <td>...</td>\n",
       "      <td>...</td>\n",
       "      <td>...</td>\n",
       "      <td>...</td>\n",
       "      <td>...</td>\n",
       "      <td>...</td>\n",
       "      <td>...</td>\n",
       "      <td>...</td>\n",
       "      <td>...</td>\n",
       "      <td>...</td>\n",
       "      <td>...</td>\n",
       "      <td>...</td>\n",
       "      <td>...</td>\n",
       "      <td>...</td>\n",
       "    </tr>\n",
       "    <tr>\n",
       "      <th>564</th>\n",
       "      <td>564</td>\n",
       "      <td>Jordan Zemura</td>\n",
       "      <td>zw ZIM</td>\n",
       "      <td>DF</td>\n",
       "      <td>Bournemouth</td>\n",
       "      <td>22</td>\n",
       "      <td>16.2</td>\n",
       "      <td>594</td>\n",
       "      <td>423</td>\n",
       "      <td>30</td>\n",
       "      <td>466</td>\n",
       "      <td>127</td>\n",
       "      <td>1</td>\n",
       "      <td>18</td>\n",
       "    </tr>\n",
       "    <tr>\n",
       "      <th>565</th>\n",
       "      <td>565</td>\n",
       "      <td>Oleksandr Zinchenko</td>\n",
       "      <td>ua UKR</td>\n",
       "      <td>DF</td>\n",
       "      <td>Arsenal</td>\n",
       "      <td>25</td>\n",
       "      <td>23.5</td>\n",
       "      <td>1911</td>\n",
       "      <td>1652</td>\n",
       "      <td>29</td>\n",
       "      <td>1703</td>\n",
       "      <td>203</td>\n",
       "      <td>12</td>\n",
       "      <td>37</td>\n",
       "    </tr>\n",
       "    <tr>\n",
       "      <th>566</th>\n",
       "      <td>566</td>\n",
       "      <td>Hakim Ziyech</td>\n",
       "      <td>ma MAR</td>\n",
       "      <td>FW,MF</td>\n",
       "      <td>Chelsea</td>\n",
       "      <td>29</td>\n",
       "      <td>7.3</td>\n",
       "      <td>400</td>\n",
       "      <td>258</td>\n",
       "      <td>15</td>\n",
       "      <td>349</td>\n",
       "      <td>47</td>\n",
       "      <td>3</td>\n",
       "      <td>66</td>\n",
       "    </tr>\n",
       "    <tr>\n",
       "      <th>567</th>\n",
       "      <td>567</td>\n",
       "      <td>Kurt Zouma</td>\n",
       "      <td>fr FRA</td>\n",
       "      <td>DF</td>\n",
       "      <td>West Ham</td>\n",
       "      <td>27</td>\n",
       "      <td>22.1</td>\n",
       "      <td>831</td>\n",
       "      <td>701</td>\n",
       "      <td>3</td>\n",
       "      <td>801</td>\n",
       "      <td>28</td>\n",
       "      <td>14</td>\n",
       "      <td>0</td>\n",
       "    </tr>\n",
       "    <tr>\n",
       "      <th>568</th>\n",
       "      <td>568</td>\n",
       "      <td>Martin Ødegaard</td>\n",
       "      <td>no NOR</td>\n",
       "      <td>MF</td>\n",
       "      <td>Arsenal</td>\n",
       "      <td>23</td>\n",
       "      <td>34.7</td>\n",
       "      <td>1804</td>\n",
       "      <td>1449</td>\n",
       "      <td>45</td>\n",
       "      <td>1683</td>\n",
       "      <td>110</td>\n",
       "      <td>9</td>\n",
       "      <td>91</td>\n",
       "    </tr>\n",
       "  </tbody>\n",
       "</table>\n",
       "<p>569 rows × 14 columns</p>\n",
       "</div>"
      ],
      "text/plain": [
       "     Unnamed: 0               Player   Nation    Pos         Squad  Age  \\\n",
       "0             0     Brenden Aaronson   us USA  MF,FW  Leeds United   21   \n",
       "1             1        George Abbott  eng ENG     MF     Tottenham   16   \n",
       "2             2            Che Adams  sct SCO     FW   Southampton   26   \n",
       "3             3          Tyler Adams   us USA     MF  Leeds United   23   \n",
       "4             4     Tosin Adarabioyo  eng ENG     DF        Fulham   24   \n",
       "..          ...                  ...      ...    ...           ...  ...   \n",
       "564         564        Jordan Zemura   zw ZIM     DF   Bournemouth   22   \n",
       "565         565  Oleksandr Zinchenko   ua UKR     DF       Arsenal   25   \n",
       "566         566         Hakim Ziyech   ma MAR  FW,MF       Chelsea   29   \n",
       "567         567           Kurt Zouma   fr FRA     DF      West Ham   27   \n",
       "568         568      Martin Ødegaard   no NOR     MF       Arsenal   23   \n",
       "\n",
       "     90s_played  TotalAtt_Pass  TotalComp_Passes  Pass_Blocked  Live_Passes  \\\n",
       "0          26.4            797               592            27          711   \n",
       "1           0.0              1                 1             0            1   \n",
       "2          22.1            498               330            17          490   \n",
       "3          24.0           1343              1108            24         1271   \n",
       "4          23.2           1300              1066            10         1235   \n",
       "..          ...            ...               ...           ...          ...   \n",
       "564        16.2            594               423            30          466   \n",
       "565        23.5           1911              1652            29         1703   \n",
       "566         7.3            400               258            15          349   \n",
       "567        22.1            831               701             3          801   \n",
       "568        34.7           1804              1449            45         1683   \n",
       "\n",
       "     Dead_Passes  Switches_Pass  Cross_Passes  \n",
       "0             85              2            72  \n",
       "1              0              0             0  \n",
       "2              7              7            12  \n",
       "3             72              2             2  \n",
       "4             58             12             2  \n",
       "..           ...            ...           ...  \n",
       "564          127              1            18  \n",
       "565          203             12            37  \n",
       "566           47              3            66  \n",
       "567           28             14             0  \n",
       "568          110              9            91  \n",
       "\n",
       "[569 rows x 14 columns]"
      ]
     },
     "execution_count": 50,
     "metadata": {},
     "output_type": "execute_result"
    }
   ],
   "source": [
    "possession_df"
   ]
  },
  {
   "cell_type": "code",
   "execution_count": 51,
   "metadata": {},
   "outputs": [
    {
     "name": "stdout",
     "output_type": "stream",
     "text": [
      "<class 'pandas.core.frame.DataFrame'>\n",
      "RangeIndex: 569 entries, 0 to 568\n",
      "Data columns (total 14 columns):\n",
      " #   Column            Non-Null Count  Dtype  \n",
      "---  ------            --------------  -----  \n",
      " 0   Unnamed: 0        569 non-null    int64  \n",
      " 1   Player            569 non-null    object \n",
      " 2   Nation            569 non-null    object \n",
      " 3   Pos               569 non-null    object \n",
      " 4   Squad             569 non-null    object \n",
      " 5   Age               569 non-null    int64  \n",
      " 6   90s_played        569 non-null    float64\n",
      " 7   TotalAtt_Pass     569 non-null    int64  \n",
      " 8   TotalComp_Passes  569 non-null    int64  \n",
      " 9   Pass_Blocked      569 non-null    int64  \n",
      " 10  Live_Passes       569 non-null    int64  \n",
      " 11  Dead_Passes       569 non-null    int64  \n",
      " 12  Switches_Pass     569 non-null    int64  \n",
      " 13  Cross_Passes      569 non-null    int64  \n",
      "dtypes: float64(1), int64(9), object(4)\n",
      "memory usage: 62.4+ KB\n"
     ]
    }
   ],
   "source": [
    "possession_df.info()"
   ]
  },
  {
   "cell_type": "code",
   "execution_count": 52,
   "metadata": {},
   "outputs": [
    {
     "data": {
      "application/vnd.plotly.v1+json": {
       "config": {
        "plotlyServerURL": "https://plot.ly"
       },
       "data": [
        {
         "customdata": [
          [
           "Brenden Aaronson",
           "Leeds United"
          ],
          [
           "Naouirou Ahamada",
           "Crystal Palace"
          ],
          [
           "Carlos Alcaraz",
           "Southampton"
          ],
          [
           "Elliot Anderson",
           "Newcastle Utd"
          ],
          [
           "Jaidon Anthony",
           "Bournemouth"
          ],
          [
           "Joe Aribo",
           "Southampton"
          ],
          [
           "Stuart Armstrong",
           "Southampton"
          ],
          [
           "Philip Billing",
           "Bournemouth"
          ],
          [
           "Emi Buendía",
           "Aston Villa"
          ],
          [
           "Fabio Carvalho",
           "Liverpool"
          ],
          [
           "Ryan Christie",
           "Bournemouth"
          ],
          [
           "Carney Chukwuemeka",
           "Chelsea"
          ],
          [
           "Philippe Coutinho",
           "Aston Villa"
          ],
          [
           "Conor Coventry",
           "West Ham"
          ],
          [
           "Mikkel Damsgaard",
           "Brentford"
          ],
          [
           "Malcolm Ebiowei",
           "Crystal Palace"
          ],
          [
           "Harvey Elliott",
           "Liverpool"
          ],
          [
           "Mohamed Elyounoussi",
           "Southampton"
          ],
          [
           "Eberechi Eze",
           "Crystal Palace"
          ],
          [
           "Bruno Fernandes",
           "Manchester Utd"
          ],
          [
           "Saman Ghoddos",
           "Brentford"
          ],
          [
           "Morgan Gibbs-White",
           "Nott'ham Forest"
          ],
          [
           "Bryan Gil",
           "Tottenham"
          ],
          [
           "Sam Greenwood",
           "Leeds United"
          ],
          [
           "Luke Harris",
           "Fulham"
          ],
          [
           "Son Heung-min",
           "Tottenham"
          ],
          [
           "Alex Iwobi",
           "Everton"
          ],
          [
           "Joelinton",
           "Newcastle Utd"
          ],
          [
           "Mateusz Klich",
           "Leeds United"
          ],
          [
           "Dejan Kulusevski",
           "Tottenham"
          ],
          [
           "Adam Lallana",
           "Brighton"
          ],
          [
           "Manuel Lanzini",
           "West Ham"
          ],
          [
           "Jamal Lowe",
           "Bournemouth"
          ],
          [
           "James Maddison",
           "Leicester City"
          ],
          [
           "Pape Matar Sarr",
           "Tottenham"
          ],
          [
           "John McGinn",
           "Aston Villa"
          ],
          [
           "Mason Mount",
           "Chelsea"
          ],
          [
           "Dango Ouattara",
           "Bournemouth"
          ],
          [
           "Cole Palmer",
           "Manchester City"
          ],
          [
           "Ayoze Pérez",
           "Leicester City"
          ],
          [
           "Dennis Praet",
           "Leicester City"
          ],
          [
           "Jacob Ramsey",
           "Aston Villa"
          ],
          [
           "Richarlison",
           "Tottenham"
          ],
          [
           "Gustavo Scarpa",
           "Nott'ham Forest"
          ],
          [
           "Jeffrey Schlupp",
           "Crystal Palace"
          ],
          [
           "Bernardo Silva",
           "Manchester City"
          ],
          [
           "Emile Smith Rowe",
           "Arsenal"
          ],
          [
           "Marcus Tavernier",
           "Bournemouth"
          ],
          [
           "Fabio Vieira",
           "Arsenal"
          ]
         ],
         "hovertemplate": "Pos=MF,FW<br>Live Passes=%{x}<br>Dead-ball Passes=%{y}<br>TotalComp_Passes=%{marker.size}<br>Player=%{customdata[0]}<br>Squad=%{customdata[1]}<extra></extra>",
         "legendgroup": "MF,FW",
         "marker": {
          "color": "#636efa",
          "size": [
           592,
           37,
           222,
           150,
           387,
           280,
           531,
           813,
           787,
           117,
           521,
           179,
           288,
           0,
           275,
           5,
           809,
           426,
           923,
           1498,
           59,
           659,
           47,
           107,
           13,
           680,
           1154,
           1035,
           108,
           582,
           262,
           146,
           2,
           844,
           141,
           805,
           585,
           210,
           167,
           118,
           200,
           728,
           196,
           51,
           665,
           1317,
           74,
           510,
           234
          ],
          "sizemode": "area",
          "sizeref": 7.2775,
          "symbol": "circle"
         },
         "mode": "markers",
         "name": "MF,FW",
         "orientation": "v",
         "showlegend": true,
         "type": "scatter",
         "x": [
          711,
          45,
          279,
          193,
          480,
          376,
          634,
          1009,
          954,
          140,
          621,
          202,
          352,
          0,
          387,
          10,
          962,
          610,
          1019,
          1838,
          68,
          891,
          57,
          143,
          14,
          780,
          1469,
          1227,
          139,
          684,
          304,
          173,
          4,
          998,
          150,
          965,
          706,
          322,
          191,
          156,
          254,
          880,
          270,
          72,
          854,
          1468,
          81,
          623,
          276
         ],
         "xaxis": "x",
         "y": [
          85,
          1,
          9,
          3,
          45,
          9,
          40,
          43,
          63,
          2,
          28,
          1,
          30,
          0,
          14,
          0,
          39,
          21,
          149,
          182,
          11,
          171,
          3,
          43,
          0,
          123,
          58,
          38,
          9,
          61,
          11,
          2,
          0,
          142,
          4,
          56,
          68,
          10,
          2,
          14,
          14,
          3,
          9,
          6,
          40,
          73,
          4,
          100,
          14
         ],
         "yaxis": "y"
        },
        {
         "customdata": [
          [
           "George Abbott",
           "Tottenham"
          ],
          [
           "Tyler Adams",
           "Leeds United"
          ],
          [
           "Thiago Alcántara",
           "Liverpool"
          ],
          [
           "Dele Alli",
           "Everton"
          ],
          [
           "Samuel Amo-Ameyaw",
           "Southampton"
          ],
          [
           "Yasin Ayari",
           "Brighton"
          ],
          [
           "Stefan Bajcetic",
           "Liverpool"
          ],
          [
           "Shandon Baptiste",
           "Brentford"
          ],
          [
           "Donny van de Beek",
           "Manchester Utd"
          ],
          [
           "Rodrigo Bentancur",
           "Tottenham"
          ],
          [
           "Yves Bissouma",
           "Tottenham"
          ],
          [
           "Cafú",
           "Nott'ham Forest"
          ],
          [
           "Moisés Caicedo",
           "Brighton"
          ],
          [
           "Tom Cairney",
           "Fulham"
          ],
          [
           "Casemiro",
           "Manchester Utd"
          ],
          [
           "Nathaniel Chalobah",
           "Fulham"
          ],
          [
           "Bobby Clark",
           "Liverpool"
          ],
          [
           "Jack Colback",
           "Nott'ham Forest"
          ],
          [
           "Lewis Cook",
           "Bournemouth"
          ],
          [
           "Matthew Craig",
           "Tottenham"
          ],
          [
           "Danilo",
           "Nott'ham Forest"
          ],
          [
           "Josh Dasilva",
           "Brentford"
          ],
          [
           "Tom Davies",
           "Everton"
          ],
          [
           "Kevin De Bruyne",
           "Manchester City"
          ],
          [
           "Leander Dendoncker",
           "Aston Villa"
          ],
          [
           "Leander Dendoncker",
           "Wolves"
          ],
          [
           "Halil Dervişoğlu",
           "Brentford"
          ],
          [
           "Kiernan Dewsbury-Hall",
           "Leicester City"
          ],
          [
           "Ibrahima Diallo",
           "Southampton"
          ],
          [
           "Abdoulaye Doucouré",
           "Everton"
          ],
          [
           "Cheick Doucouré",
           "Crystal Palace"
          ],
          [
           "Flynn Downes",
           "West Ham"
          ],
          [
           "Kami Doyle",
           "Southampton"
          ],
          [
           "Mohamed Elneny",
           "Arsenal"
          ],
          [
           "Christian Eriksen",
           "Manchester Utd"
          ],
          [
           "Fabinho",
           "Liverpool"
          ],
          [
           "Enzo Fernández",
           "Chelsea"
          ],
          [
           "Adam Forshaw",
           "Leeds United"
          ],
          [
           "Fred",
           "Manchester Utd"
          ],
          [
           "Remo Freuler",
           "Nott'ham Forest"
          ],
          [
           "Conor Gallagher",
           "Chelsea"
          ],
          [
           "Idrissa Gana Gueye",
           "Everton"
          ],
          [
           "Billy Gilmour",
           "Brighton"
          ],
          [
           "João Gomes",
           "Wolves"
          ],
          [
           "Bruno Guimarães",
           "Newcastle Utd"
          ],
          [
           "İlkay Gündoğan",
           "Manchester City"
          ],
          [
           "Jordan Henderson",
           "Liverpool"
          ],
          [
           "Joseph Hodge",
           "Wolves"
          ],
          [
           "Will Hughes",
           "Crystal Palace"
          ],
          [
           "Pierre Højbjerg",
           "Tottenham"
          ],
          [
           "Mathias Jensen",
           "Brentford"
          ],
          [
           "Curtis Jones",
           "Liverpool"
          ],
          [
           "Jorginho",
           "Arsenal"
          ],
          [
           "Jorginho",
           "Chelsea"
          ],
          [
           "Boubacar Kamara",
           "Aston Villa"
          ],
          [
           "N'Golo Kanté",
           "Chelsea"
          ],
          [
           "Naby Keïta",
           "Liverpool"
          ],
          [
           "Cheikhou Kouyaté",
           "Nott'ham Forest"
          ],
          [
           "Mateo Kovačić",
           "Chelsea"
          ],
          [
           "Roméo Lavia",
           "Southampton"
          ],
          [
           "Mario Lemina",
           "Wolves"
          ],
          [
           "Jefferson Lerma",
           "Bournemouth"
          ],
          [
           "Sean Longstaff",
           "Newcastle Utd"
          ],
          [
           "Douglas Luiz",
           "Aston Villa"
          ],
          [
           "Saša Lukić",
           "Fulham"
          ],
          [
           "Alexis Mac Allister",
           "Brighton"
          ],
          [
           "Kobbie Mainoo",
           "Manchester Utd"
          ],
          [
           "Orel Mangala",
           "Nott'ham Forest"
          ],
          [
           "Emiliano Marcondes",
           "Bournemouth"
          ],
          [
           "Marquinhos",
           "Arsenal"
          ],
          [
           "James McArthur",
           "Crystal Palace"
          ],
          [
           "Weston McKennie",
           "Leeds United"
          ],
          [
           "Scott McTominay",
           "Manchester Utd"
          ],
          [
           "Nampalys Mendy",
           "Leicester City"
          ],
          [
           "Lewis Miley",
           "Newcastle Utd"
          ],
          [
           "Luka Milivojević",
           "Crystal Palace"
          ],
          [
           "João Moutinho",
           "Wolves"
          ],
          [
           "Wilfred Ndidi",
           "Leicester City"
          ],
          [
           "Rúben Neves",
           "Wolves"
          ],
          [
           "Matheus Nunes",
           "Wolves"
          ],
          [
           "Christian Nørgaard",
           "Brentford"
          ],
          [
           "Lewis O'Brien",
           "Nott'ham Forest"
          ],
          [
           "Amadou Onana",
           "Everton"
          ],
          [
           "Josh Onomah",
           "Fulham"
          ],
          [
           "Frank Onyeka",
           "Brentford"
          ],
          [
           "Mislav Oršić",
           "Southampton"
          ],
          [
           "João Palhinha",
           "Fulham"
          ],
          [
           "Lucas Paquetá",
           "West Ham"
          ],
          [
           "Thomas Partey",
           "Arsenal"
          ],
          [
           "Ben Pearson",
           "Bournemouth"
          ],
          [
           "Andreas Pereira",
           "Fulham"
          ],
          [
           "Máximo Perrone",
           "Manchester City"
          ],
          [
           "Cameron Peupion",
           "Brighton"
          ],
          [
           "Kalvin Phillips",
           "Manchester City"
          ],
          [
           "Isaac Price",
           "Everton"
          ],
          [
           "Harrison Reed",
           "Fulham"
          ],
          [
           "Declan Rice",
           "West Ham"
          ],
          [
           "Marc Roca",
           "Leeds United"
          ],
          [
           "Rodri",
           "Manchester City"
          ],
          [
           "Oriol Romeu",
           "Southampton"
          ],
          [
           "Connor Ronan",
           "Wolves"
          ],
          [
           "Joe Rothwell",
           "Bournemouth"
          ],
          [
           "Marcel Sabitzer",
           "Manchester Utd"
          ],
          [
           "Albert Sambi Lokonga",
           "Arsenal"
          ],
          [
           "Albert Sambi Lokonga",
           "Crystal Palace"
          ],
          [
           "Morgan Sanson",
           "Aston Villa"
          ],
          [
           "Jeremy Sarmiento",
           "Brighton"
          ],
          [
           "Jonjo Shelvey",
           "Newcastle Utd"
          ],
          [
           "Jonjo Shelvey",
           "Nott'ham Forest"
          ],
          [
           "Oliver Skipp",
           "Tottenham"
          ],
          [
           "Tomáš Souček",
           "West Ham"
          ],
          [
           "Boubakary Soumaré",
           "Leicester City"
          ],
          [
           "Junior Stanislas",
           "Bournemouth"
          ],
          [
           "Youri Tielemans",
           "Leicester City"
          ],
          [
           "Boubacar Traoré",
           "Wolves"
          ],
          [
           "James Ward-Prowse",
           "Southampton"
          ],
          [
           "Harvey White",
           "Tottenham"
          ],
          [
           "Joe Willock",
           "Newcastle Utd"
          ],
          [
           "Granit Xhaka",
           "Arsenal"
          ],
          [
           "Ryan Yates",
           "Nott'ham Forest"
          ],
          [
           "Denis Zakaria",
           "Chelsea"
          ],
          [
           "Martin Ødegaard",
           "Arsenal"
          ]
         ],
         "hovertemplate": "Pos=MF<br>Live Passes=%{x}<br>Dead-ball Passes=%{y}<br>TotalComp_Passes=%{marker.size}<br>Player=%{customdata[0]}<br>Squad=%{customdata[1]}<extra></extra>",
         "legendgroup": "MF",
         "marker": {
          "color": "#EF553B",
          "size": [
           1,
           1108,
           946,
           12,
           5,
           20,
           200,
           247,
           46,
           738,
           666,
           2,
           1993,
           632,
           1114,
           4,
           1,
           119,
           593,
           5,
           148,
           491,
           173,
           1192,
           248,
           86,
           0,
           872,
           317,
           430,
           1038,
           289,
           5,
           57,
           1203,
           1617,
           1269,
           196,
           618,
           664,
           706,
           1025,
           364,
           250,
           1387,
           1374,
           1341,
           80,
           296,
           2021,
           1088,
           611,
           641,
           749,
           798,
           271,
           129,
           185,
           1130,
           859,
           566,
           1317,
           943,
           1494,
           192,
           1586,
           7,
           411,
           1,
           2,
           41,
           472,
           355,
           362,
           5,
           207,
           850,
           754,
           1730,
           818,
           608,
           166,
           816,
           4,
           193,
           2,
           1051,
           907,
           1731,
           108,
           701,
           18,
           3,
           289,
           12,
           988,
           1846,
           978,
           2723,
           28,
           3,
           385,
           237,
           132,
           228,
           5,
           53,
           19,
           221,
           660,
           709,
           776,
           22,
           1303,
           118,
           1716,
           3,
           777,
           1382,
           455,
           158,
           1449
          ],
          "sizemode": "area",
          "sizeref": 7.2775,
          "symbol": "circle"
         },
         "mode": "markers",
         "name": "MF",
         "orientation": "v",
         "showlegend": true,
         "type": "scatter",
         "x": [
          1,
          1271,
          1063,
          13,
          6,
          22,
          255,
          287,
          56,
          852,
          714,
          2,
          2214,
          715,
          1408,
          5,
          1,
          139,
          692,
          6,
          225,
          591,
          227,
          1454,
          278,
          96,
          0,
          1120,
          395,
          530,
          1229,
          323,
          5,
          58,
          1373,
          1789,
          1381,
          222,
          761,
          812,
          818,
          1205,
          403,
          307,
          1617,
          1519,
          1554,
          96,
          355,
          2206,
          1158,
          664,
          718,
          853,
          907,
          336,
          161,
          241,
          1289,
          985,
          645,
          1551,
          1118,
          1593,
          211,
          1785,
          8,
          508,
          1,
          3,
          49,
          589,
          426,
          399,
          6,
          248,
          936,
          868,
          1945,
          994,
          787,
          207,
          970,
          6,
          255,
          2,
          1222,
          1075,
          1923,
          130,
          826,
          20,
          4,
          310,
          14,
          1225,
          2060,
          1188,
          2943,
          30,
          3,
          402,
          293,
          135,
          250,
          7,
          67,
          23,
          271,
          755,
          982,
          895,
          27,
          1517,
          146,
          1840,
          6,
          922,
          1574,
          526,
          177,
          1683
         ],
         "xaxis": "x",
         "y": [
          0,
          72,
          31,
          2,
          0,
          0,
          3,
          6,
          3,
          25,
          16,
          0,
          37,
          33,
          24,
          0,
          0,
          4,
          56,
          0,
          7,
          25,
          6,
          160,
          5,
          3,
          0,
          24,
          7,
          16,
          16,
          7,
          0,
          2,
          106,
          38,
          56,
          22,
          16,
          23,
          50,
          17,
          2,
          14,
          42,
          56,
          53,
          2,
          16,
          81,
          401,
          12,
          16,
          28,
          34,
          0,
          6,
          4,
          29,
          10,
          5,
          59,
          41,
          216,
          7,
          52,
          0,
          4,
          0,
          0,
          3,
          36,
          5,
          12,
          0,
          11,
          116,
          31,
          153,
          31,
          19,
          7,
          6,
          0,
          1,
          1,
          48,
          73,
          59,
          4,
          231,
          0,
          0,
          2,
          0,
          51,
          70,
          102,
          43,
          0,
          1,
          54,
          9,
          5,
          10,
          0,
          0,
          3,
          31,
          12,
          12,
          7,
          1,
          100,
          0,
          329,
          2,
          25,
          55,
          62,
          2,
          110
         ],
         "yaxis": "y"
        },
        {
         "customdata": [
          [
           "Che Adams",
           "Southampton"
          ],
          [
           "Miguel Almirón",
           "Newcastle Utd"
          ],
          [
           "Michail Antonio",
           "West Ham"
          ],
          [
           "Antony",
           "Manchester Utd"
          ],
          [
           "Pierre-Emerick Aubameyang",
           "Chelsea"
          ],
          [
           "Taiwo Awoniyi",
           "Nott'ham Forest"
          ],
          [
           "Patrick Bamford",
           "Leeds United"
          ],
          [
           "Armando Broja",
           "Chelsea"
          ],
          [
           "Dominic Calvert-Lewin",
           "Everton"
          ],
          [
           "Thomas Cannon",
           "Everton"
          ],
          [
           "Maxwel Cornet",
           "West Ham"
          ],
          [
           "Diego Costa",
           "Wolves"
          ],
          [
           "Matheus Cunha",
           "Wolves"
          ],
          [
           "Patson Daka",
           "Leicester City"
          ],
          [
           "David Datro Fofana",
           "Chelsea"
          ],
          [
           "Luis Díaz",
           "Liverpool"
          ],
          [
           "Ben Doak",
           "Liverpool"
          ],
          [
           "Odsonne Édouard",
           "Crystal Palace"
          ],
          [
           "Anthony Elanga",
           "Manchester Utd"
          ],
          [
           "Evan Ferguson",
           "Brighton"
          ],
          [
           "Phil Foden",
           "Manchester City"
          ],
          [
           "Tyrese Francois",
           "Fulham"
          ],
          [
           "Ryan Fraser",
           "Newcastle Utd"
          ],
          [
           "Joe Gelhardt",
           "Leeds United"
          ],
          [
           "Anthony Gordon",
           "Everton"
          ],
          [
           "Jack Grealish",
           "Manchester City"
          ],
          [
           "Darko Gyabi",
           "Leeds United"
          ],
          [
           "Erling Haaland",
           "Manchester City"
          ],
          [
           "Jack Hinshelwood",
           "Brighton"
          ],
          [
           "Omari Hutchinson",
           "Chelsea"
          ],
          [
           "Danny Ings",
           "West Ham"
          ],
          [
           "Danny Ings",
           "Aston Villa"
          ],
          [
           "Alexander Isak",
           "Newcastle Utd"
          ],
          [
           "Daniel James",
           "Leeds United"
          ],
          [
           "Daniel James",
           "Fulham"
          ],
          [
           "Gabriel Jesus",
           "Arsenal"
          ],
          [
           "Raúl Jiménez",
           "Wolves"
          ],
          [
           "Diogo Jota",
           "Liverpool"
          ],
          [
           "Sasa Kalajdzic",
           "Wolves"
          ],
          [
           "Harry Kane",
           "Tottenham"
          ],
          [
           "Neeskens Kebano",
           "Fulham"
          ],
          [
           "Noni Madueke",
           "Chelsea"
          ],
          [
           "Anthony Martial",
           "Manchester Utd"
          ],
          [
           "Gabriel Martinelli",
           "Arsenal"
          ],
          [
           "Jean-Philippe Mateta",
           "Crystal Palace"
          ],
          [
           "Neal Maupay",
           "Everton"
          ],
          [
           "Bryan Mbeumo",
           "Brentford"
          ],
          [
           "Alex Mighten",
           "Nott'ham Forest"
          ],
          [
           "Aleksandar Mitrović",
           "Fulham"
          ],
          [
           "Kieffer Moore",
           "Bournemouth"
          ],
          [
           "Andrew Moran",
           "Brighton"
          ],
          [
           "Divin Mubama",
           "West Ham"
          ],
          [
           "Jacob Murphy",
           "Newcastle Utd"
          ],
          [
           "Reiss Nelson",
           "Arsenal"
          ],
          [
           "Eddie Nketiah",
           "Arsenal"
          ],
          [
           "Darwin Núñez",
           "Liverpool"
          ],
          [
           "Ethan Nwaneri",
           "Arsenal"
          ],
          [
           "Paul Onuachu",
           "Southampton"
          ],
          [
           "David Ozoh",
           "Crystal Palace"
          ],
          [
           "Marcus Rashford",
           "Manchester Utd"
          ],
          [
           "Cristiano Ronaldo",
           "Manchester Utd"
          ],
          [
           "Salomón Rondón",
           "Everton"
          ],
          [
           "Allan Saint-Maximin",
           "Newcastle Utd"
          ],
          [
           "Bukayo Saka",
           "Arsenal"
          ],
          [
           "Mohamed Salah",
           "Liverpool"
          ],
          [
           "Gianluca Scamacca",
           "West Ham"
          ],
          [
           "Kevin Schade",
           "Brentford"
          ],
          [
           "Ellis Simms",
           "Everton"
          ],
          [
           "Luis Sinisterra",
           "Leeds United"
          ],
          [
           "Manor Solomon",
           "Fulham"
          ],
          [
           "Jay Stansfield",
           "Fulham"
          ],
          [
           "Crysencio Summerville",
           "Leeds United"
          ],
          [
           "Sam Surridge",
           "Nott'ham Forest"
          ],
          [
           "Tetê",
           "Leicester City"
          ],
          [
           "Ivan Toney",
           "Brentford"
          ],
          [
           "Leandro Trossard",
           "Arsenal"
          ],
          [
           "Jamie Vardy",
           "Leicester City"
          ],
          [
           "Carlos Vinícius",
           "Fulham"
          ],
          [
           "Ollie Watkins",
           "Aston Villa"
          ],
          [
           "Danny Welbeck",
           "Brighton"
          ],
          [
           "Willian",
           "Fulham"
          ],
          [
           "Callum Wilson",
           "Newcastle Utd"
          ],
          [
           "Harry Wilson",
           "Fulham"
          ],
          [
           "Yoane Wissa",
           "Brentford"
          ],
          [
           "Chris Wood",
           "Newcastle Utd"
          ],
          [
           "Chris Wood",
           "Nott'ham Forest"
          ]
         ],
         "hovertemplate": "Pos=FW<br>Live Passes=%{x}<br>Dead-ball Passes=%{y}<br>TotalComp_Passes=%{marker.size}<br>Player=%{customdata[0]}<br>Squad=%{customdata[1]}<extra></extra>",
         "legendgroup": "FW",
         "marker": {
          "color": "#00cc96",
          "size": [
           330,
           811,
           186,
           651,
           82,
           143,
           229,
           33,
           131,
           4,
           72,
           158,
           171,
           195,
           7,
           376,
           10,
           295,
           95,
           180,
           904,
           2,
           85,
           43,
           193,
           902,
           4,
           360,
           1,
           9,
           92,
           114,
           279,
           24,
           120,
           561,
           140,
           286,
           2,
           642,
           155,
           223,
           263,
           833,
           104,
           190,
           655,
           1,
           299,
           212,
           1,
           5,
           296,
           101,
           205,
           258,
           0,
           55,
           3,
           627,
           121,
           22,
           316,
           1054,
           902,
           118,
           103,
           38,
           273,
           175,
           9,
           308,
           40,
           186,
           468,
           347,
           137,
           119,
           391,
           373,
           712,
           160,
           310,
           238,
           66,
           43
          ],
          "sizemode": "area",
          "sizeref": 7.2775,
          "symbol": "circle"
         },
         "mode": "markers",
         "name": "FW",
         "orientation": "v",
         "showlegend": true,
         "type": "scatter",
         "x": [
          490,
          946,
          335,
          804,
          101,
          220,
          294,
          51,
          220,
          4,
          93,
          204,
          214,
          264,
          9,
          453,
          14,
          390,
          127,
          203,
          1046,
          2,
          112,
          62,
          272,
          1011,
          4,
          449,
          3,
          13,
          146,
          152,
          338,
          40,
          182,
          635,
          173,
          379,
          4,
          853,
          206,
          278,
          314,
          1013,
          143,
          222,
          845,
          1,
          486,
          337,
          1,
          7,
          428,
          118,
          231,
          386,
          0,
          90,
          3,
          790,
          157,
          28,
          435,
          1297,
          1146,
          173,
          171,
          62,
          336,
          202,
          23,
          402,
          77,
          235,
          751,
          402,
          239,
          181,
          554,
          416,
          860,
          234,
          383,
          334,
          105,
          71
         ],
         "xaxis": "x",
         "y": [
          7,
          30,
          12,
          15,
          10,
          3,
          38,
          2,
          1,
          1,
          2,
          17,
          19,
          29,
          0,
          7,
          0,
          20,
          3,
          21,
          61,
          0,
          7,
          3,
          7,
          56,
          0,
          45,
          0,
          0,
          2,
          10,
          25,
          0,
          4,
          62,
          25,
          2,
          0,
          60,
          6,
          8,
          12,
          88,
          6,
          30,
          139,
          0,
          10,
          23,
          1,
          1,
          18,
          2,
          24,
          11,
          0,
          1,
          0,
          22,
          5,
          1,
          9,
          131,
          29,
          3,
          1,
          0,
          3,
          4,
          0,
          6,
          3,
          20,
          29,
          47,
          23,
          7,
          9,
          24,
          49,
          7,
          20,
          7,
          1,
          0
         ],
         "yaxis": "y"
        },
        {
         "customdata": [
          [
           "Tosin Adarabioyo",
           "Fulham"
          ],
          [
           "Nayef Aguerd",
           "West Ham"
          ],
          [
           "Rayan Aït Nouri",
           "Wolves"
          ],
          [
           "Kristoffer Ajer",
           "Brentford"
          ],
          [
           "Manuel Akanji",
           "Manchester City"
          ],
          [
           "Nathan Aké",
           "Manchester City"
          ],
          [
           "Trent Alexander-Arnold",
           "Liverpool"
          ],
          [
           "Daniel Amartey",
           "Leicester City"
          ],
          [
           "Joachim Andersen",
           "Crystal Palace"
          ],
          [
           "Ludwig Augustinsson",
           "Aston Villa"
          ],
          [
           "Serge Aurier",
           "Nott'ham Forest"
          ],
          [
           "Luke Ayling",
           "Leeds United"
          ],
          [
           "César Azpilicueta",
           "Chelsea"
          ],
          [
           "Benoît Badiashile",
           "Chelsea"
          ],
          [
           "Jan Bednarek",
           "Southampton"
          ],
          [
           "Jan Bednarek",
           "Aston Villa"
          ],
          [
           "Armel Bella Kotchap",
           "Southampton"
          ],
          [
           "Victor Bernth Kristiansen",
           "Leicester City"
          ],
          [
           "Owen Bevan",
           "Bournemouth"
          ],
          [
           "Giulian Biancone",
           "Nott'ham Forest"
          ],
          [
           "Willy Boly",
           "Nott'ham Forest"
          ],
          [
           "Sven Botman",
           "Newcastle Utd"
          ],
          [
           "James Bree",
           "Southampton"
          ],
          [
           "Lewis Brunt",
           "Leicester City"
          ],
          [
           "Hugo Bueno",
           "Wolves"
          ],
          [
           "Dan Burn",
           "Newcastle Utd"
          ],
          [
           "Duje Ćaleta-Car",
           "Southampton"
          ],
          [
           "João Cancelo",
           "Manchester City"
          ],
          [
           "Diego Carlos",
           "Aston Villa"
          ],
          [
           "Matty Cash",
           "Aston Villa"
          ],
          [
           "Timothy Castagne",
           "Leicester City"
          ],
          [
           "Jonny Castro",
           "Wolves"
          ],
          [
           "Trevoh Chalobah",
           "Chelsea"
          ],
          [
           "Shea Charles",
           "Manchester City"
          ],
          [
           "Nathaniel Clyne",
           "Crystal Palace"
          ],
          [
           "Conor Coady",
           "Everton"
          ],
          [
           "Séamus Coleman",
           "Everton"
          ],
          [
           "Nathan Collins",
           "Wolves"
          ],
          [
           "Levi Colwill",
           "Brighton"
          ],
          [
           "Steve Cook",
           "Nott'ham Forest"
          ],
          [
           "Liam Cooper",
           "Leeds United"
          ],
          [
           "Vladimír Coufal",
           "West Ham"
          ],
          [
           "Aaron Cresswell",
           "West Ham"
          ],
          [
           "Marc Cucurella",
           "Chelsea"
          ],
          [
           "Diogo Dalot",
           "Manchester Utd"
          ],
          [
           "Ben Davies",
           "Tottenham"
          ],
          [
           "Craig Dawson",
           "West Ham"
          ],
          [
           "Craig Dawson",
           "Wolves"
          ],
          [
           "Rúben Dias",
           "Manchester City"
          ],
          [
           "Eric Dier",
           "Tottenham"
          ],
          [
           "Lucas Digne",
           "Aston Villa"
          ],
          [
           "Issa Diop",
           "Fulham"
          ],
          [
           "Gabriel Dos Santos",
           "Arsenal"
          ],
          [
           "Cody Drameh",
           "Leeds United"
          ],
          [
           "Lewis Dunk",
           "Brighton"
          ],
          [
           "Emerson",
           "Tottenham"
          ],
          [
           "Pervis Estupiñán",
           "Brighton"
          ],
          [
           "Jonny Evans",
           "Leicester City"
          ],
          [
           "Wout Faes",
           "Leicester City"
          ],
          [
           "Felipe",
           "Nott'ham Forest"
          ],
          [
           "Junior Firpo",
           "Leeds United"
          ],
          [
           "Wesley Fofana",
           "Leicester City"
          ],
          [
           "Wesley Fofana",
           "Chelsea"
          ],
          [
           "Ryan Fredericks",
           "Bournemouth"
          ],
          [
           "Ben Godfrey",
           "Everton"
          ],
          [
           "Toti Gomes",
           "Wolves"
          ],
          [
           "Joe Gomez",
           "Liverpool"
          ],
          [
           "Marc Guéhi",
           "Crystal Palace"
          ],
          [
           "Lewis Hall",
           "Chelsea"
          ],
          [
           "Jan Paul van Hecke",
           "Brighton"
          ],
          [
           "Rico Henry",
           "Brentford"
          ],
          [
           "Aaron Hickey",
           "Brentford"
          ],
          [
           "Rob Holding",
           "Arsenal"
          ],
          [
           "Mason Holgate",
           "Everton"
          ],
          [
           "Pontus Jansson",
           "Brentford"
          ],
          [
           "Ben Johnson",
           "West Ham"
          ],
          [
           "James Justin",
           "Leicester City"
          ],
          [
           "Mathias Jørgensen",
           "Brentford"
          ],
          [
           "Michael Keane",
           "Everton"
          ],
          [
           "Thilo Kehrer",
           "West Ham"
          ],
          [
           "Lloyd Kelly",
           "Bournemouth"
          ],
          [
           "Max Kilman",
           "Wolves"
          ],
          [
           "Jakub Kiwior",
           "Arsenal"
          ],
          [
           "Robin Koch",
           "Leeds United"
          ],
          [
           "Ibrahima Konaté",
           "Liverpool"
          ],
          [
           "Ezri Konsa",
           "Aston Villa"
          ],
          [
           "Kalidou Koulibaly",
           "Chelsea"
          ],
          [
           "Emil Krafth",
           "Newcastle Utd"
          ],
          [
           "Layvin Kurzawa",
           "Fulham"
          ],
          [
           "Tariq Lamptey",
           "Brighton"
          ],
          [
           "Aymeric Laporte",
           "Manchester City"
          ],
          [
           "Juan Larios",
           "Southampton"
          ],
          [
           "Jamaal Lascelles",
           "Newcastle Utd"
          ],
          [
           "Dexter Lembikisa",
           "Wolves"
          ],
          [
           "Clément Lenglet",
           "Tottenham"
          ],
          [
           "Victor Lindelöf",
           "Manchester Utd"
          ],
          [
           "Diego Llorente",
           "Leeds United"
          ],
          [
           "Renan Lodi",
           "Nott'ham Forest"
          ],
          [
           "Lyanco",
           "Southampton"
          ],
          [
           "Harry Maguire",
           "Manchester Utd"
          ],
          [
           "Tyrell Malacia",
           "Manchester Utd"
          ],
          [
           "Javier Manquillo",
           "Newcastle Utd"
          ],
          [
           "Lisandro Martínez",
           "Manchester Utd"
          ],
          [
           "Joël Matip",
           "Liverpool"
          ],
          [
           "Scott McKenna",
           "Nott'ham Forest"
          ],
          [
           "Ben Mee",
           "Brentford"
          ],
          [
           "Chris Mepham",
           "Bournemouth"
          ],
          [
           "Yerry Mina",
           "Everton"
          ],
          [
           "Tyrone Mings",
           "Aston Villa"
          ],
          [
           "Tyrick Mitchell",
           "Crystal Palace"
          ],
          [
           "Álex Moreno",
           "Aston Villa"
          ],
          [
           "Vitaliy Mykolenko",
           "Everton"
          ],
          [
           "Moussa Niakhate",
           "Nott'ham Forest"
          ],
          [
           "Rasmus Nissen",
           "Leeds United"
          ],
          [
           "Odeluga Offiah",
           "Brighton"
          ],
          [
           "Angelo Ogbonna",
           "West Ham"
          ],
          [
           "Emerson Palmieri",
           "West Ham"
          ],
          [
           "Romain Perraud",
           "Southampton"
          ],
          [
           "Nathaniel Phillips",
           "Liverpool"
          ],
          [
           "Ethan Pinnock",
           "Brentford"
          ],
          [
           "Tim Ream",
           "Fulham"
          ],
          [
           "Nathan Redmond",
           "Southampton"
          ],
          [
           "Chris Richards",
           "Crystal Palace"
          ],
          [
           "Andrew Robertson",
           "Liverpool"
          ],
          [
           "Antonee Robinson",
           "Fulham"
          ],
          [
           "Mads Roerslev",
           "Brentford"
          ],
          [
           "Cristian Romero",
           "Tottenham"
          ],
          [
           "William Saliba",
           "Arsenal"
          ],
          [
           "Mohammed Salisu",
           "Southampton"
          ],
          [
           "Davinson Sánchez",
           "Tottenham"
          ],
          [
           "Fabian Schär",
           "Newcastle Utd"
          ],
          [
           "Nélson Semedo",
           "Wolves"
          ],
          [
           "Marcos Senesi",
           "Bournemouth"
          ],
          [
           "Ryan Sessegnon",
           "Tottenham"
          ],
          [
           "Luke Shaw",
           "Manchester Utd"
          ],
          [
           "Thiago Silva",
           "Chelsea"
          ],
          [
           "Adam Smith",
           "Bournemouth"
          ],
          [
           "Cédric Soares",
           "Arsenal"
          ],
          [
           "Cédric Soares",
           "Fulham"
          ],
          [
           "Harry Souttar",
           "Leicester City"
          ],
          [
           "Çağlar Söyüncü",
           "Leicester City"
          ],
          [
           "Jack Stacey",
           "Bournemouth"
          ],
          [
           "Jack Stephens",
           "Southampton"
          ],
          [
           "Jack Stephens",
           "Bournemouth"
          ],
          [
           "Pascal Struijk",
           "Leeds United"
          ],
          [
           "Japhet Tanganga",
           "Tottenham"
          ],
          [
           "Matt Targett",
           "Newcastle Utd"
          ],
          [
           "James Tarkowski",
           "Everton"
          ],
          [
           "Kenny Tete",
           "Fulham"
          ],
          [
           "Luke Thomas",
           "Leicester City"
          ],
          [
           "Kieran Tierney",
           "Arsenal"
          ],
          [
           "Harry Toffolo",
           "Nott'ham Forest"
          ],
          [
           "Takehiro Tomiyasu",
           "Arsenal"
          ],
          [
           "James Tomkins",
           "Crystal Palace"
          ],
          [
           "Kieran Trippier",
           "Newcastle Utd"
          ],
          [
           "Kostas Tsimikas",
           "Liverpool"
          ],
          [
           "Yan Valery",
           "Southampton"
          ],
          [
           "Virgil van Dijk",
           "Liverpool"
          ],
          [
           "Raphaël Varane",
           "Manchester Utd"
          ],
          [
           "Joël Veltman",
           "Brighton"
          ],
          [
           "Matías Viña",
           "Bournemouth"
          ],
          [
           "Kyle Walker",
           "Manchester City"
          ],
          [
           "Kyle Walker-Peters",
           "Southampton"
          ],
          [
           "Aaron Wan-Bissaka",
           "Manchester Utd"
          ],
          [
           "Joel Ward",
           "Crystal Palace"
          ],
          [
           "Adam Webster",
           "Brighton"
          ],
          [
           "Ben White",
           "Arsenal"
          ],
          [
           "Neco Williams",
           "Nott'ham Forest"
          ],
          [
           "Maximilian Wöber",
           "Leeds United"
          ],
          [
           "Joe Worrall",
           "Nott'ham Forest"
          ],
          [
           "Ashley Young",
           "Aston Villa"
          ],
          [
           "Illia Zabarnyi",
           "Bournemouth"
          ],
          [
           "Jordan Zemura",
           "Bournemouth"
          ],
          [
           "Oleksandr Zinchenko",
           "Arsenal"
          ],
          [
           "Kurt Zouma",
           "West Ham"
          ]
         ],
         "hovertemplate": "Pos=DF<br>Live Passes=%{x}<br>Dead-ball Passes=%{y}<br>TotalComp_Passes=%{marker.size}<br>Player=%{customdata[0]}<br>Squad=%{customdata[1]}<extra></extra>",
         "legendgroup": "DF",
         "marker": {
          "color": "#ab63fa",
          "size": [
           1066,
           599,
           470,
           259,
           1912,
           1639,
           2188,
           1015,
           1561,
           26,
           667,
           786,
           872,
           769,
           753,
           60,
           749,
           327,
           2,
           15,
           194,
           1527,
           133,
           17,
           547,
           1361,
           480,
           1036,
           112,
           777,
           1470,
           701,
           1051,
           23,
           654,
           1025,
           597,
           1001,
           1027,
           369,
           620,
           730,
           1127,
           1090,
           1141,
           1040,
           245,
           780,
           1928,
           1708,
           696,
           1216,
           2155,
           30,
           2911,
           848,
           1576,
           690,
           1581,
           411,
           454,
           117,
           779,
           149,
           182,
           460,
           1166,
           1883,
           343,
           232,
           876,
           695,
           382,
           143,
           257,
           395,
           667,
           404,
           305,
           927,
           934,
           1748,
           177,
           1229,
           988,
           1681,
           1275,
           0,
           28,
           239,
           892,
           63,
           79,
           10,
           1270,
           866,
           356,
           583,
           400,
           491,
           694,
           24,
           1330,
           766,
           569,
           1348,
           870,
           286,
           1617,
           1152,
           581,
           966,
           265,
           740,
           24,
           332,
           572,
           623,
           71,
           914,
           1662,
           0,
           169,
           1803,
           1404,
           194,
           1407,
           1698,
           879,
           515,
           1423,
           1211,
           1064,
           280,
           1757,
           1856,
           953,
           19,
           143,
           448,
           241,
           74,
           23,
           446,
           1046,
           82,
           326,
           1322,
           1110,
           521,
           362,
           242,
           384,
           138,
           1995,
           474,
           15,
           2345,
           954,
           1261,
           140,
           1661,
           1019,
           706,
           921,
           1514,
           1888,
           533,
           483,
           891,
           897,
           184,
           423,
           1652,
           701
          ],
          "sizemode": "area",
          "sizeref": 7.2775,
          "symbol": "circle"
         },
         "mode": "markers",
         "name": "DF",
         "orientation": "v",
         "showlegend": true,
         "type": "scatter",
         "x": [
          1235,
          723,
          487,
          293,
          1999,
          1685,
          2393,
          1092,
          1840,
          34,
          758,
          912,
          893,
          840,
          849,
          64,
          908,
          376,
          3,
          19,
          254,
          1717,
          150,
          16,
          536,
          1437,
          542,
          1120,
          136,
          809,
          1545,
          698,
          1132,
          22,
          674,
          1169,
          615,
          1112,
          1096,
          445,
          756,
          907,
          1157,
          1093,
          1216,
          1190,
          299,
          897,
          2029,
          1929,
          749,
          1352,
          2318,
          31,
          3064,
          884,
          1687,
          764,
          1789,
          545,
          505,
          138,
          842,
          177,
          232,
          499,
          1316,
          2124,
          369,
          242,
          1059,
          743,
          430,
          191,
          309,
          463,
          687,
          437,
          429,
          992,
          1020,
          2069,
          192,
          1544,
          1115,
          1806,
          1421,
          0,
          29,
          258,
          926,
          59,
          93,
          12,
          1431,
          905,
          417,
          684,
          494,
          564,
          670,
          25,
          1401,
          873,
          691,
          1625,
          1001,
          309,
          1811,
          1234,
          609,
          1045,
          293,
          861,
          29,
          406,
          606,
          729,
          80,
          1088,
          1858,
          1,
          190,
          1883,
          1582,
          282,
          1523,
          1822,
          1075,
          583,
          1770,
          1263,
          1257,
          318,
          1792,
          1976,
          987,
          23,
          157,
          531,
          292,
          106,
          25,
          538,
          1065,
          91,
          327,
          1578,
          1176,
          519,
          415,
          313,
          420,
          164,
          2061,
          470,
          23,
          2492,
          1073,
          1286,
          142,
          1732,
          1046,
          715,
          1014,
          1650,
          1951,
          651,
          638,
          1058,
          945,
          197,
          466,
          1703,
          801
         ],
         "xaxis": "x",
         "y": [
          58,
          36,
          89,
          51,
          55,
          126,
          509,
          20,
          123,
          9,
          183,
          212,
          169,
          19,
          52,
          2,
          28,
          117,
          0,
          2,
          4,
          42,
          28,
          5,
          140,
          275,
          22,
          98,
          5,
          194,
          287,
          132,
          66,
          3,
          156,
          35,
          174,
          23,
          64,
          13,
          33,
          260,
          288,
          192,
          219,
          87,
          9,
          27,
          51,
          68,
          177,
          46,
          89,
          7,
          156,
          170,
          234,
          24,
          54,
          20,
          114,
          1,
          29,
          43,
          48,
          55,
          39,
          79,
          57,
          5,
          138,
          93,
          10,
          24,
          11,
          71,
          130,
          65,
          9,
          116,
          140,
          29,
          13,
          46,
          19,
          88,
          45,
          0,
          12,
          44,
          37,
          23,
          0,
          1,
          29,
          25,
          11,
          189,
          63,
          12,
          130,
          4,
          122,
          11,
          32,
          130,
          37,
          15,
          85,
          370,
          134,
          239,
          98,
          181,
          1,
          9,
          121,
          151,
          2,
          57,
          59,
          0,
          13,
          375,
          327,
          21,
          80,
          43,
          115,
          10,
          73,
          233,
          56,
          72,
          297,
          59,
          276,
          1,
          27,
          19,
          14,
          23,
          3,
          5,
          250,
          1,
          91,
          48,
          344,
          133,
          67,
          72,
          53,
          7,
          714,
          146,
          0,
          99,
          30,
          219,
          43,
          158,
          274,
          123,
          208,
          63,
          285,
          182,
          43,
          97,
          235,
          2,
          127,
          203,
          28
         ],
         "yaxis": "y"
        },
        {
         "customdata": [
          [
           "Marc Albrighton",
           "Leicester City"
          ],
          [
           "Julián Álvarez",
           "Manchester City"
          ],
          [
           "Cameron Archer",
           "Aston Villa"
          ],
          [
           "Adam Armstrong",
           "Southampton"
          ],
          [
           "André Ayew",
           "Nott'ham Forest"
          ],
          [
           "Jordan Ayew",
           "Crystal Palace"
          ],
          [
           "Leon Bailey",
           "Aston Villa"
          ],
          [
           "Dominic Ballard",
           "Southampton"
          ],
          [
           "Harvey Barnes",
           "Leicester City"
          ],
          [
           "Saïd Benrahma",
           "West Ham"
          ],
          [
           "Jarrod Bowen",
           "West Ham"
          ],
          [
           "David Brooks",
           "Bournemouth"
          ],
          [
           "Facundo Buonanotte",
           "Brighton"
          ],
          [
           "Chem Campbell",
           "Wolves"
          ],
          [
           "Julio César Enciso",
           "Brighton"
          ],
          [
           "Arnaut Danjuma",
           "Tottenham"
          ],
          [
           "Siriki Dembélé",
           "Bournemouth"
          ],
          [
           "Emmanuel Dennis",
           "Nott'ham Forest"
          ],
          [
           "Jhon Durán",
           "Aston Villa"
          ],
          [
           "Samuel Edozie",
           "Southampton"
          ],
          [
           "João Félix",
           "Chelsea"
          ],
          [
           "Roberto Firmino",
           "Liverpool"
          ],
          [
           "Pablo Fornals",
           "West Ham"
          ],
          [
           "Cody Gakpo",
           "Liverpool"
          ],
          [
           "Alejandro Garnacho",
           "Manchester Utd"
          ],
          [
           "Morgan Gibbs-White",
           "Wolves"
          ],
          [
           "Degnand Gnonto",
           "Leeds United"
          ],
          [
           "Anthony Gordon",
           "Newcastle Utd"
          ],
          [
           "Demarai Gray",
           "Everton"
          ],
          [
           "Gonçalo Guedes",
           "Wolves"
          ],
          [
           "Jack Harrison",
           "Leeds United"
          ],
          [
           "Kai Havertz",
           "Chelsea"
          ],
          [
           "Hwang Hee-chan",
           "Wolves"
          ],
          [
           "Kelechi Iheanacho",
           "Leicester City"
          ],
          [
           "Brennan Johnson",
           "Nott'ham Forest"
          ],
          [
           "Mateo Joseph",
           "Leeds United"
          ],
          [
           "Hamed Junior Traorè",
           "Bournemouth"
          ],
          [
           "Keane Lewis-Potter",
           "Brentford"
          ],
          [
           "Jesse Lingard",
           "Nott'ham Forest"
          ],
          [
           "Riyad Mahrez",
           "Manchester City"
          ],
          [
           "Sekou Mara",
           "Southampton"
          ],
          [
           "Dwight McNeil",
           "Everton"
          ],
          [
           "Kaoru Mitoma",
           "Brighton"
          ],
          [
           "Mykhailo Mudryk",
           "Chelsea"
          ],
          [
           "Enock Mwepu",
           "Brighton"
          ],
          [
           "Pedro Neto",
           "Wolves"
          ],
          [
           "Michael Olise",
           "Crystal Palace"
          ],
          [
           "Alex Oxlade-Chamberlain",
           "Liverpool"
          ],
          [
           "Facundo Pellistri",
           "Manchester Utd"
          ],
          [
           "Daniel Podence",
           "Wolves"
          ],
          [
           "Matt Ritchie",
           "Newcastle Utd"
          ],
          [
           "Rodrigo",
           "Leeds United"
          ],
          [
           "Georginio Rutter",
           "Leeds United"
          ],
          [
           "Jadon Sancho",
           "Manchester Utd"
          ],
          [
           "Pablo Sarabia",
           "Wolves"
          ],
          [
           "Antoine Semenyo",
           "Bournemouth"
          ],
          [
           "Dominic Solanke",
           "Bournemouth"
          ],
          [
           "Raheem Sterling",
           "Chelsea"
          ],
          [
           "Kamaldeen Sulemana",
           "Southampton"
          ],
          [
           "Adama Traoré",
           "Wolves"
          ],
          [
           "Bertrand Traoré",
           "Aston Villa"
          ],
          [
           "Leandro Trossard",
           "Brighton"
          ],
          [
           "Deniz Undav",
           "Brighton"
          ],
          [
           "Theo Walcott",
           "Southampton"
          ],
          [
           "Wout Weghorst",
           "Manchester Utd"
          ],
          [
           "Wilfried Zaha",
           "Crystal Palace"
          ],
          [
           "Hakim Ziyech",
           "Chelsea"
          ]
         ],
         "hovertemplate": "Pos=FW,MF<br>Live Passes=%{x}<br>Dead-ball Passes=%{y}<br>TotalComp_Passes=%{marker.size}<br>Player=%{customdata[0]}<br>Squad=%{customdata[1]}<extra></extra>",
         "legendgroup": "FW,MF",
         "marker": {
          "color": "#FFA15A",
          "size": [
           89,
           395,
           8,
           220,
           53,
           676,
           337,
           5,
           549,
           597,
           552,
           46,
           157,
           23,
           179,
           39,
           37,
           124,
           16,
           111,
           274,
           444,
           557,
           293,
           150,
           75,
           370,
           162,
           579,
           138,
           732,
           727,
           214,
           236,
           291,
           2,
           109,
           49,
           236,
           958,
           68,
           656,
           780,
           161,
           61,
           284,
           985,
           75,
           15,
           445,
           24,
           389,
           31,
           647,
           252,
           38,
           363,
           514,
           189,
           325,
           59,
           379,
           122,
           180,
           151,
           502,
           258
          ],
          "sizemode": "area",
          "sizeref": 7.2775,
          "symbol": "circle"
         },
         "mode": "markers",
         "name": "FW,MF",
         "orientation": "v",
         "showlegend": true,
         "type": "scatter",
         "x": [
          130,
          478,
          11,
          267,
          68,
          860,
          507,
          5,
          769,
          771,
          768,
          61,
          190,
          31,
          249,
          56,
          45,
          178,
          26,
          163,
          314,
          548,
          719,
          381,
          187,
          88,
          482,
          191,
          666,
          182,
          1012,
          850,
          266,
          304,
          480,
          3,
          149,
          83,
          271,
          1028,
          102,
          838,
          952,
          193,
          76,
          342,
          1189,
          102,
          15,
          609,
          31,
          492,
          59,
          760,
          324,
          53,
          479,
          662,
          257,
          491,
          72,
          498,
          159,
          256,
          206,
          628,
          349
         ],
         "xaxis": "x",
         "y": [
          17,
          21,
          1,
          35,
          5,
          13,
          40,
          2,
          10,
          20,
          109,
          2,
          4,
          1,
          8,
          0,
          2,
          4,
          3,
          0,
          39,
          16,
          48,
          9,
          0,
          7,
          26,
          4,
          172,
          19,
          131,
          41,
          13,
          9,
          23,
          0,
          28,
          3,
          24,
          138,
          2,
          142,
          19,
          22,
          2,
          42,
          229,
          2,
          1,
          51,
          0,
          53,
          2,
          14,
          39,
          4,
          52,
          21,
          6,
          1,
          2,
          28,
          4,
          6,
          1,
          20,
          47
         ],
         "yaxis": "y"
        },
        {
         "customdata": [
          [
           "Alisson",
           "Liverpool"
          ],
          [
           "Alphonse Areola",
           "West Ham"
          ],
          [
           "Kepa Arrizabalaga",
           "Chelsea"
          ],
          [
           "Gavin Bazunu",
           "Southampton"
          ],
          [
           "Asmir Begović",
           "Everton"
          ],
          [
           "Daniel Bentley",
           "Wolves"
          ],
          [
           "Martin Dúbravka",
           "Newcastle Utd"
          ],
          [
           "Ederson",
           "Manchester City"
          ],
          [
           "Łukasz Fabiański",
           "West Ham"
          ],
          [
           "Fraser Forster",
           "Tottenham"
          ],
          [
           "David de Gea",
           "Manchester Utd"
          ],
          [
           "Vicente Guaita",
           "Crystal Palace"
          ],
          [
           "Dean Henderson",
           "Nott'ham Forest"
          ],
          [
           "Wayne Hennessey",
           "Nott'ham Forest"
          ],
          [
           "Daniel Iversen",
           "Leicester City"
          ],
          [
           "Sam Johnstone",
           "Crystal Palace"
          ],
          [
           "Caoimhín Kelleher",
           "Liverpool"
          ],
          [
           "Bernd Leno",
           "Fulham"
          ],
          [
           "Hugo Lloris",
           "Tottenham"
          ],
          [
           "Emiliano Martínez",
           "Aston Villa"
          ],
          [
           "Alex McCarthy",
           "Southampton"
          ],
          [
           "Edouard Mendy",
           "Chelsea"
          ],
          [
           "Illan Meslier",
           "Leeds United"
          ],
          [
           "Keylor Navas",
           "Nott'ham Forest"
          ],
          [
           "Neto",
           "Bournemouth"
          ],
          [
           "Robin Olsen",
           "Aston Villa"
          ],
          [
           "Stefan Ortega",
           "Manchester City"
          ],
          [
           "Jordan Pickford",
           "Everton"
          ],
          [
           "Nick Pope",
           "Newcastle Utd"
          ],
          [
           "Aaron Ramsdale",
           "Arsenal"
          ],
          [
           "David Raya",
           "Brentford"
          ],
          [
           "Joel Robles",
           "Leeds United"
          ],
          [
           "Marek Rodák",
           "Fulham"
          ],
          [
           "José Sá",
           "Wolves"
          ],
          [
           "Robert Sánchez",
           "Brighton"
          ],
          [
           "Jason Steele",
           "Brighton"
          ],
          [
           "Mark Travers",
           "Bournemouth"
          ],
          [
           "Danny Ward",
           "Leicester City"
          ],
          [
           "Joseph Whitworth",
           "Crystal Palace"
          ]
         ],
         "hovertemplate": "Pos=GK<br>Live Passes=%{x}<br>Dead-ball Passes=%{y}<br>TotalComp_Passes=%{marker.size}<br>Player=%{customdata[0]}<br>Squad=%{customdata[1]}<extra></extra>",
         "legendgroup": "GK",
         "marker": {
          "color": "#19d3f3",
          "size": [
           1241,
           67,
           871,
           718,
           21,
           61,
           49,
           1079,
           598,
           266,
           866,
           610,
           425,
           61,
           212,
           207,
           23,
           1110,
           561,
           1026,
           150,
           233,
           664,
           306,
           521,
           74,
           145,
           749,
           614,
           761,
           1054,
           63,
           29,
           837,
           604,
           478,
           281,
           708,
           61
          ],
          "sizemode": "area",
          "sizeref": 7.2775,
          "symbol": "circle"
         },
         "mode": "markers",
         "name": "GK",
         "orientation": "v",
         "showlegend": true,
         "type": "scatter",
         "x": [
          1199,
          59,
          805,
          847,
          21,
          52,
          38,
          1049,
          587,
          241,
          968,
          590,
          455,
          63,
          214,
          213,
          22,
          1041,
          513,
          1043,
          178,
          220,
          705,
          312,
          513,
          89,
          152,
          823,
          612,
          872,
          1181,
          70,
          38,
          854,
          608,
          471,
          214,
          679,
          63
         ],
         "xaxis": "x",
         "y": [
          250,
          32,
          241,
          325,
          9,
          28,
          16,
          207,
          339,
          121,
          243,
          251,
          214,
          34,
          161,
          66,
          2,
          354,
          212,
          340,
          68,
          69,
          331,
          217,
          319,
          40,
          15,
          484,
          278,
          237,
          455,
          52,
          23,
          341,
          168,
          67,
          154,
          261,
          20
         ],
         "yaxis": "y"
        },
        {
         "customdata": [
          [
           "Mads Bech Sørensen",
           "Brentford"
          ],
          [
           "Calum Chambers",
           "Aston Villa"
          ],
          [
           "Ben Chilwell",
           "Chelsea"
          ],
          [
           "Matt Doherty",
           "Tottenham"
          ],
          [
           "Sergio Gómez",
           "Manchester City"
          ],
          [
           "Reece James",
           "Chelsea"
          ],
          [
           "Rico Lewis",
           "Manchester City"
          ],
          [
           "Ainsley Maitland-Niles",
           "Southampton"
          ],
          [
           "Nathan Patterson",
           "Everton"
          ],
          [
           "Ricardo Pereira",
           "Leicester City"
          ],
          [
           "Ivan Perišić",
           "Tottenham"
          ],
          [
           "Pedro Porro",
           "Tottenham"
          ],
          [
           "Jaïro Riedewald",
           "Crystal Palace"
          ],
          [
           "John Stones",
           "Manchester City"
          ],
          [
           "Rúben Vinagre",
           "Everton"
          ]
         ],
         "hovertemplate": "Pos=DF,MF<br>Live Passes=%{x}<br>Dead-ball Passes=%{y}<br>TotalComp_Passes=%{marker.size}<br>Player=%{customdata[0]}<br>Squad=%{customdata[1]}<extra></extra>",
         "legendgroup": "DF,MF",
         "marker": {
          "color": "#FF6692",
          "size": [
           7,
           157,
           762,
           329,
           279,
           891,
           617,
           565,
           488,
           252,
           713,
           465,
           34,
           1453,
           15
          ],
          "sizemode": "area",
          "sizeref": 7.2775,
          "symbol": "circle"
         },
         "mode": "markers",
         "name": "DF,MF",
         "orientation": "v",
         "showlegend": true,
         "type": "scatter",
         "x": [
          7,
          191,
          774,
          345,
          287,
          896,
          633,
          633,
          503,
          259,
          895,
          525,
          38,
          1496,
          19
         ],
         "xaxis": "x",
         "y": [
          4,
          13,
          198,
          61,
          30,
          151,
          41,
          77,
          145,
          61,
          221,
          121,
          7,
          66,
          5
         ],
         "yaxis": "y"
        },
        {
         "customdata": [
          [
           "Sergi Canós",
           "Brentford"
          ],
          [
           "Solly March",
           "Brighton"
          ],
          [
           "Christian Pulisic",
           "Chelsea"
          ],
          [
           "Bobby Reid",
           "Fulham"
          ],
          [
           "Djed Spence",
           "Tottenham"
          ]
         ],
         "hovertemplate": "Pos=FW,DF<br>Live Passes=%{x}<br>Dead-ball Passes=%{y}<br>TotalComp_Passes=%{marker.size}<br>Player=%{customdata[0]}<br>Squad=%{customdata[1]}<extra></extra>",
         "legendgroup": "FW,DF",
         "marker": {
          "color": "#B6E880",
          "size": [
           23,
           951,
           238,
           636,
           5
          ],
          "sizemode": "area",
          "sizeref": 7.2775,
          "symbol": "circle"
         },
         "mode": "markers",
         "name": "FW,DF",
         "orientation": "v",
         "showlegend": true,
         "type": "scatter",
         "x": [
          39,
          1168,
          294,
          829,
          9
         ],
         "xaxis": "x",
         "y": [
          3,
          142,
          4,
          74,
          0
         ],
         "yaxis": "y"
        },
        {
         "customdata": [
          [
           "Moussa Djenepo",
           "Southampton"
          ],
          [
           "Shane Duffy",
           "Fulham"
          ],
          [
           "Jamal Lewis",
           "Newcastle Utd"
          ],
          [
           "Valentino Livramento",
           "Southampton"
          ],
          [
           "Kevin Mbabu",
           "Fulham"
          ]
         ],
         "hovertemplate": "Pos=DF,FW<br>Live Passes=%{x}<br>Dead-ball Passes=%{y}<br>TotalComp_Passes=%{marker.size}<br>Player=%{customdata[0]}<br>Squad=%{customdata[1]}<extra></extra>",
         "legendgroup": "DF,FW",
         "marker": {
          "color": "#FF97FF",
          "size": [
           179,
           16,
           12,
           21,
           68
          ],
          "sizemode": "area",
          "sizeref": 7.2775,
          "symbol": "circle"
         },
         "mode": "markers",
         "name": "DF,FW",
         "orientation": "v",
         "showlegend": true,
         "type": "scatter",
         "x": [
          216,
          19,
          14,
          18,
          71
         ],
         "xaxis": "x",
         "y": [
          27,
          1,
          0,
          8,
          23
         ],
         "yaxis": "y"
        },
        {
         "customdata": [
          [
           "James Garner",
           "Everton"
          ],
          [
           "Pascal Groß",
           "Brighton"
          ],
          [
           "Vitaly Janelt",
           "Brentford"
          ],
          [
           "Ruben Loftus-Cheek",
           "Chelsea"
          ],
          [
           "James Milner",
           "Liverpool"
          ],
          [
           "Lucas Moura",
           "Tottenham"
          ]
         ],
         "hovertemplate": "Pos=MF,DF<br>Live Passes=%{x}<br>Dead-ball Passes=%{y}<br>TotalComp_Passes=%{marker.size}<br>Player=%{customdata[0]}<br>Squad=%{customdata[1]}<extra></extra>",
         "legendgroup": "MF,DF",
         "marker": {
          "color": "#FECB52",
          "size": [
           256,
           1879,
           812,
           782,
           563,
           62
          ],
          "sizemode": "area",
          "sizeref": 7.2775,
          "symbol": "circle"
         },
         "mode": "markers",
         "name": "MF,DF",
         "orientation": "v",
         "showlegend": true,
         "type": "scatter",
         "x": [
          310,
          2004,
          986,
          858,
          625,
          83
         ],
         "xaxis": "x",
         "y": [
          41,
          333,
          29,
          44,
          99,
          6
         ],
         "yaxis": "y"
        }
       ],
       "layout": {
        "hovermode": "closest",
        "legend": {
         "itemsizing": "constant",
         "title": {
          "text": "Position"
         },
         "tracegroupgap": 0
        },
        "margin": {
         "t": 60
        },
        "template": {
         "data": {
          "bar": [
           {
            "error_x": {
             "color": "#2a3f5f"
            },
            "error_y": {
             "color": "#2a3f5f"
            },
            "marker": {
             "line": {
              "color": "#E5ECF6",
              "width": 0.5
             },
             "pattern": {
              "fillmode": "overlay",
              "size": 10,
              "solidity": 0.2
             }
            },
            "type": "bar"
           }
          ],
          "barpolar": [
           {
            "marker": {
             "line": {
              "color": "#E5ECF6",
              "width": 0.5
             },
             "pattern": {
              "fillmode": "overlay",
              "size": 10,
              "solidity": 0.2
             }
            },
            "type": "barpolar"
           }
          ],
          "carpet": [
           {
            "aaxis": {
             "endlinecolor": "#2a3f5f",
             "gridcolor": "white",
             "linecolor": "white",
             "minorgridcolor": "white",
             "startlinecolor": "#2a3f5f"
            },
            "baxis": {
             "endlinecolor": "#2a3f5f",
             "gridcolor": "white",
             "linecolor": "white",
             "minorgridcolor": "white",
             "startlinecolor": "#2a3f5f"
            },
            "type": "carpet"
           }
          ],
          "choropleth": [
           {
            "colorbar": {
             "outlinewidth": 0,
             "ticks": ""
            },
            "type": "choropleth"
           }
          ],
          "contour": [
           {
            "colorbar": {
             "outlinewidth": 0,
             "ticks": ""
            },
            "colorscale": [
             [
              0,
              "#0d0887"
             ],
             [
              0.1111111111111111,
              "#46039f"
             ],
             [
              0.2222222222222222,
              "#7201a8"
             ],
             [
              0.3333333333333333,
              "#9c179e"
             ],
             [
              0.4444444444444444,
              "#bd3786"
             ],
             [
              0.5555555555555556,
              "#d8576b"
             ],
             [
              0.6666666666666666,
              "#ed7953"
             ],
             [
              0.7777777777777778,
              "#fb9f3a"
             ],
             [
              0.8888888888888888,
              "#fdca26"
             ],
             [
              1,
              "#f0f921"
             ]
            ],
            "type": "contour"
           }
          ],
          "contourcarpet": [
           {
            "colorbar": {
             "outlinewidth": 0,
             "ticks": ""
            },
            "type": "contourcarpet"
           }
          ],
          "heatmap": [
           {
            "colorbar": {
             "outlinewidth": 0,
             "ticks": ""
            },
            "colorscale": [
             [
              0,
              "#0d0887"
             ],
             [
              0.1111111111111111,
              "#46039f"
             ],
             [
              0.2222222222222222,
              "#7201a8"
             ],
             [
              0.3333333333333333,
              "#9c179e"
             ],
             [
              0.4444444444444444,
              "#bd3786"
             ],
             [
              0.5555555555555556,
              "#d8576b"
             ],
             [
              0.6666666666666666,
              "#ed7953"
             ],
             [
              0.7777777777777778,
              "#fb9f3a"
             ],
             [
              0.8888888888888888,
              "#fdca26"
             ],
             [
              1,
              "#f0f921"
             ]
            ],
            "type": "heatmap"
           }
          ],
          "heatmapgl": [
           {
            "colorbar": {
             "outlinewidth": 0,
             "ticks": ""
            },
            "colorscale": [
             [
              0,
              "#0d0887"
             ],
             [
              0.1111111111111111,
              "#46039f"
             ],
             [
              0.2222222222222222,
              "#7201a8"
             ],
             [
              0.3333333333333333,
              "#9c179e"
             ],
             [
              0.4444444444444444,
              "#bd3786"
             ],
             [
              0.5555555555555556,
              "#d8576b"
             ],
             [
              0.6666666666666666,
              "#ed7953"
             ],
             [
              0.7777777777777778,
              "#fb9f3a"
             ],
             [
              0.8888888888888888,
              "#fdca26"
             ],
             [
              1,
              "#f0f921"
             ]
            ],
            "type": "heatmapgl"
           }
          ],
          "histogram": [
           {
            "marker": {
             "pattern": {
              "fillmode": "overlay",
              "size": 10,
              "solidity": 0.2
             }
            },
            "type": "histogram"
           }
          ],
          "histogram2d": [
           {
            "colorbar": {
             "outlinewidth": 0,
             "ticks": ""
            },
            "colorscale": [
             [
              0,
              "#0d0887"
             ],
             [
              0.1111111111111111,
              "#46039f"
             ],
             [
              0.2222222222222222,
              "#7201a8"
             ],
             [
              0.3333333333333333,
              "#9c179e"
             ],
             [
              0.4444444444444444,
              "#bd3786"
             ],
             [
              0.5555555555555556,
              "#d8576b"
             ],
             [
              0.6666666666666666,
              "#ed7953"
             ],
             [
              0.7777777777777778,
              "#fb9f3a"
             ],
             [
              0.8888888888888888,
              "#fdca26"
             ],
             [
              1,
              "#f0f921"
             ]
            ],
            "type": "histogram2d"
           }
          ],
          "histogram2dcontour": [
           {
            "colorbar": {
             "outlinewidth": 0,
             "ticks": ""
            },
            "colorscale": [
             [
              0,
              "#0d0887"
             ],
             [
              0.1111111111111111,
              "#46039f"
             ],
             [
              0.2222222222222222,
              "#7201a8"
             ],
             [
              0.3333333333333333,
              "#9c179e"
             ],
             [
              0.4444444444444444,
              "#bd3786"
             ],
             [
              0.5555555555555556,
              "#d8576b"
             ],
             [
              0.6666666666666666,
              "#ed7953"
             ],
             [
              0.7777777777777778,
              "#fb9f3a"
             ],
             [
              0.8888888888888888,
              "#fdca26"
             ],
             [
              1,
              "#f0f921"
             ]
            ],
            "type": "histogram2dcontour"
           }
          ],
          "mesh3d": [
           {
            "colorbar": {
             "outlinewidth": 0,
             "ticks": ""
            },
            "type": "mesh3d"
           }
          ],
          "parcoords": [
           {
            "line": {
             "colorbar": {
              "outlinewidth": 0,
              "ticks": ""
             }
            },
            "type": "parcoords"
           }
          ],
          "pie": [
           {
            "automargin": true,
            "type": "pie"
           }
          ],
          "scatter": [
           {
            "fillpattern": {
             "fillmode": "overlay",
             "size": 10,
             "solidity": 0.2
            },
            "type": "scatter"
           }
          ],
          "scatter3d": [
           {
            "line": {
             "colorbar": {
              "outlinewidth": 0,
              "ticks": ""
             }
            },
            "marker": {
             "colorbar": {
              "outlinewidth": 0,
              "ticks": ""
             }
            },
            "type": "scatter3d"
           }
          ],
          "scattercarpet": [
           {
            "marker": {
             "colorbar": {
              "outlinewidth": 0,
              "ticks": ""
             }
            },
            "type": "scattercarpet"
           }
          ],
          "scattergeo": [
           {
            "marker": {
             "colorbar": {
              "outlinewidth": 0,
              "ticks": ""
             }
            },
            "type": "scattergeo"
           }
          ],
          "scattergl": [
           {
            "marker": {
             "colorbar": {
              "outlinewidth": 0,
              "ticks": ""
             }
            },
            "type": "scattergl"
           }
          ],
          "scattermapbox": [
           {
            "marker": {
             "colorbar": {
              "outlinewidth": 0,
              "ticks": ""
             }
            },
            "type": "scattermapbox"
           }
          ],
          "scatterpolar": [
           {
            "marker": {
             "colorbar": {
              "outlinewidth": 0,
              "ticks": ""
             }
            },
            "type": "scatterpolar"
           }
          ],
          "scatterpolargl": [
           {
            "marker": {
             "colorbar": {
              "outlinewidth": 0,
              "ticks": ""
             }
            },
            "type": "scatterpolargl"
           }
          ],
          "scatterternary": [
           {
            "marker": {
             "colorbar": {
              "outlinewidth": 0,
              "ticks": ""
             }
            },
            "type": "scatterternary"
           }
          ],
          "surface": [
           {
            "colorbar": {
             "outlinewidth": 0,
             "ticks": ""
            },
            "colorscale": [
             [
              0,
              "#0d0887"
             ],
             [
              0.1111111111111111,
              "#46039f"
             ],
             [
              0.2222222222222222,
              "#7201a8"
             ],
             [
              0.3333333333333333,
              "#9c179e"
             ],
             [
              0.4444444444444444,
              "#bd3786"
             ],
             [
              0.5555555555555556,
              "#d8576b"
             ],
             [
              0.6666666666666666,
              "#ed7953"
             ],
             [
              0.7777777777777778,
              "#fb9f3a"
             ],
             [
              0.8888888888888888,
              "#fdca26"
             ],
             [
              1,
              "#f0f921"
             ]
            ],
            "type": "surface"
           }
          ],
          "table": [
           {
            "cells": {
             "fill": {
              "color": "#EBF0F8"
             },
             "line": {
              "color": "white"
             }
            },
            "header": {
             "fill": {
              "color": "#C8D4E3"
             },
             "line": {
              "color": "white"
             }
            },
            "type": "table"
           }
          ]
         },
         "layout": {
          "annotationdefaults": {
           "arrowcolor": "#2a3f5f",
           "arrowhead": 0,
           "arrowwidth": 1
          },
          "autotypenumbers": "strict",
          "coloraxis": {
           "colorbar": {
            "outlinewidth": 0,
            "ticks": ""
           }
          },
          "colorscale": {
           "diverging": [
            [
             0,
             "#8e0152"
            ],
            [
             0.1,
             "#c51b7d"
            ],
            [
             0.2,
             "#de77ae"
            ],
            [
             0.3,
             "#f1b6da"
            ],
            [
             0.4,
             "#fde0ef"
            ],
            [
             0.5,
             "#f7f7f7"
            ],
            [
             0.6,
             "#e6f5d0"
            ],
            [
             0.7,
             "#b8e186"
            ],
            [
             0.8,
             "#7fbc41"
            ],
            [
             0.9,
             "#4d9221"
            ],
            [
             1,
             "#276419"
            ]
           ],
           "sequential": [
            [
             0,
             "#0d0887"
            ],
            [
             0.1111111111111111,
             "#46039f"
            ],
            [
             0.2222222222222222,
             "#7201a8"
            ],
            [
             0.3333333333333333,
             "#9c179e"
            ],
            [
             0.4444444444444444,
             "#bd3786"
            ],
            [
             0.5555555555555556,
             "#d8576b"
            ],
            [
             0.6666666666666666,
             "#ed7953"
            ],
            [
             0.7777777777777778,
             "#fb9f3a"
            ],
            [
             0.8888888888888888,
             "#fdca26"
            ],
            [
             1,
             "#f0f921"
            ]
           ],
           "sequentialminus": [
            [
             0,
             "#0d0887"
            ],
            [
             0.1111111111111111,
             "#46039f"
            ],
            [
             0.2222222222222222,
             "#7201a8"
            ],
            [
             0.3333333333333333,
             "#9c179e"
            ],
            [
             0.4444444444444444,
             "#bd3786"
            ],
            [
             0.5555555555555556,
             "#d8576b"
            ],
            [
             0.6666666666666666,
             "#ed7953"
            ],
            [
             0.7777777777777778,
             "#fb9f3a"
            ],
            [
             0.8888888888888888,
             "#fdca26"
            ],
            [
             1,
             "#f0f921"
            ]
           ]
          },
          "colorway": [
           "#636efa",
           "#EF553B",
           "#00cc96",
           "#ab63fa",
           "#FFA15A",
           "#19d3f3",
           "#FF6692",
           "#B6E880",
           "#FF97FF",
           "#FECB52"
          ],
          "font": {
           "color": "#2a3f5f"
          },
          "geo": {
           "bgcolor": "white",
           "lakecolor": "white",
           "landcolor": "#E5ECF6",
           "showlakes": true,
           "showland": true,
           "subunitcolor": "white"
          },
          "hoverlabel": {
           "align": "left"
          },
          "hovermode": "closest",
          "mapbox": {
           "style": "light"
          },
          "paper_bgcolor": "white",
          "plot_bgcolor": "#E5ECF6",
          "polar": {
           "angularaxis": {
            "gridcolor": "white",
            "linecolor": "white",
            "ticks": ""
           },
           "bgcolor": "#E5ECF6",
           "radialaxis": {
            "gridcolor": "white",
            "linecolor": "white",
            "ticks": ""
           }
          },
          "scene": {
           "xaxis": {
            "backgroundcolor": "#E5ECF6",
            "gridcolor": "white",
            "gridwidth": 2,
            "linecolor": "white",
            "showbackground": true,
            "ticks": "",
            "zerolinecolor": "white"
           },
           "yaxis": {
            "backgroundcolor": "#E5ECF6",
            "gridcolor": "white",
            "gridwidth": 2,
            "linecolor": "white",
            "showbackground": true,
            "ticks": "",
            "zerolinecolor": "white"
           },
           "zaxis": {
            "backgroundcolor": "#E5ECF6",
            "gridcolor": "white",
            "gridwidth": 2,
            "linecolor": "white",
            "showbackground": true,
            "ticks": "",
            "zerolinecolor": "white"
           }
          },
          "shapedefaults": {
           "line": {
            "color": "#2a3f5f"
           }
          },
          "ternary": {
           "aaxis": {
            "gridcolor": "white",
            "linecolor": "white",
            "ticks": ""
           },
           "baxis": {
            "gridcolor": "white",
            "linecolor": "white",
            "ticks": ""
           },
           "bgcolor": "#E5ECF6",
           "caxis": {
            "gridcolor": "white",
            "linecolor": "white",
            "ticks": ""
           }
          },
          "title": {
           "x": 0.05
          },
          "xaxis": {
           "automargin": true,
           "gridcolor": "white",
           "linecolor": "white",
           "ticks": "",
           "title": {
            "standoff": 15
           },
           "zerolinecolor": "white",
           "zerolinewidth": 2
          },
          "yaxis": {
           "automargin": true,
           "gridcolor": "white",
           "linecolor": "white",
           "ticks": "",
           "title": {
            "standoff": 15
           },
           "zerolinecolor": "white",
           "zerolinewidth": 2
          }
         }
        },
        "title": {
         "text": "Live Passes vs Dead-ball Passes"
        },
        "xaxis": {
         "anchor": "y",
         "domain": [
          0,
          1
         ],
         "title": {
          "text": "Live Passes"
         }
        },
        "yaxis": {
         "anchor": "x",
         "domain": [
          0,
          1
         ],
         "title": {
          "text": "Dead-ball Passes"
         }
        }
       }
      }
     },
     "metadata": {},
     "output_type": "display_data"
    }
   ],
   "source": [
    "# Bubble chart\n",
    "fig = px.scatter(possession_df, x='Live_Passes', y='Dead_Passes', size='TotalComp_Passes',\n",
    "                 color='Pos', hover_data=['Player', 'Squad'],\n",
    "                 labels={'Live_Passes': 'Live Passes', 'Dead_Passes': 'Dead-ball Passes'})\n",
    "\n",
    "# Customizing the layout\n",
    "fig.update_layout(title='Live Passes vs Dead-ball Passes',\n",
    "                  xaxis_title='Live Passes',\n",
    "                  yaxis_title='Dead-ball Passes',\n",
    "                  legend_title='Position',\n",
    "                  hovermode='closest')\n",
    "\n",
    "# Show the plot\n",
    "fig.show()"
   ]
  },
  {
   "cell_type": "code",
   "execution_count": null,
   "metadata": {},
   "outputs": [],
   "source": [
    "# Filter the DataFrame to include only midfielders\n",
    "midfielders_df = possession_df[possession_df['Pos'].str.contains('MF')]\n",
    "\n",
    "# Find the midfielder with the highest total completed passes\n",
    "best_midfielder = midfielders_df.loc[midfielders_df['TotalComp_Passes'].idxmax()]\n",
    "\n",
    "# Create a bar chart for the best midfielder\n",
    "fig = px.bar(best_midfielder, x=['TotalAtt_Pass', 'TotalComp_Passes', 'Pass_Blocked'],\n",
    "             y=[best_midfielder['TotalAtt_Pass'], best_midfielder['TotalComp_Passes'], best_midfielder['Pass_Blocked']],\n",
    "             labels={'value': 'Number of Passes'},\n",
    "             title=f'Passing Statistics for the Best Midfielder ({best_midfielder[\"Player\"]})')\n",
    "\n",
    "# Show the plot\n",
    "fig.show()"
   ]
  },
  {
   "cell_type": "code",
   "execution_count": null,
   "metadata": {},
   "outputs": [],
   "source": [
    "shooting_df"
   ]
  },
  {
   "cell_type": "code",
   "execution_count": null,
   "metadata": {},
   "outputs": [],
   "source": [
    "shooting_df.info()"
   ]
  },
  {
   "cell_type": "code",
   "execution_count": null,
   "metadata": {},
   "outputs": [],
   "source": [
    "# Bar chart for total goals by player\n",
    "bar_fig = px.bar(shooting_df, x='Player', y='Goals', color='Pos',\n",
    "                 labels={'Goals': 'Total Goals'},\n",
    "                 title='Total Goals by Player and Position')\n",
    "\n",
    "# Customizing the layout\n",
    "bar_fig.update_layout(xaxis_title='Player',\n",
    "                      yaxis_title='Total Goals',\n",
    "                      legend_title='Position',\n",
    "                      hovermode='closest')\n",
    "bar_fig.show()"
   ]
  },
  {
   "cell_type": "code",
   "execution_count": null,
   "metadata": {},
   "outputs": [],
   "source": [
    "# Select relevant shooting-related columns for correlation heatmap\n",
    "shooting_corr_df = shooting_df[['Goals', 'Tot_Shot', 'Shot_On_Target', 'TotalShotPer90', 'ShotTargetPer90', 'Goal/TotShot', 'Goal/ShotTarget', 'Penalty', 'xG', 'NoPen_xG', 'NoPen_xGperShot', 'Goal-xG', 'NoPen_Goal-xG']]\n",
    "\n",
    "# Calculate the correlation matrix\n",
    "correlation_matrix = shooting_corr_df.corr()\n",
    "\n",
    "#Show the interactive plot\n",
    "fig.show()"
   ]
  },
  {
   "cell_type": "code",
   "execution_count": null,
   "metadata": {},
   "outputs": [],
   "source": [
    "stats_df"
   ]
  },
  {
   "cell_type": "code",
   "execution_count": null,
   "metadata": {},
   "outputs": [],
   "source": [
    "stats_df.info()"
   ]
  },
  {
   "cell_type": "code",
   "execution_count": null,
   "metadata": {},
   "outputs": [],
   "source": [
    "import plotly.graph_objects as go\n",
    "\n",
    "# Bar chart for top 10 players with the highest number of goals\n",
    "top_goals_players = stats_df.nlargest(10, 'Goals')\n",
    "bar_chart = px.bar(top_goals_players, x='Player', y='Goals', color='Goals',\n",
    "                   title='Top 10 Players with the Highest Number of Goals',\n",
    "                   labels={'Goals': 'Number of Goals'},\n",
    "                   hover_name='Player')\n",
    "\n",
    "# Pie chart for the distribution of player positions\n",
    "position_distribution = stats_df['Pos'].value_counts().reset_index()\n",
    "position_distribution.columns = ['Position', 'Count']\n",
    "pie_chart = px.pie(position_distribution, values='Count', names='Position',\n",
    "                   title='Distribution of Player Positions')\n",
    "\n",
    "# Display the visualizations\n",
    "display(bar_chart)\n",
    "display(pie_chart)"
   ]
  },
  {
   "cell_type": "code",
   "execution_count": null,
   "metadata": {},
   "outputs": [],
   "source": [
    "import plotly.figure_factory as ff\n",
    "\n",
    "# Select only numerical columns for correlation\n",
    "numerical_cols = stats_df.select_dtypes(include=['number'])\n",
    "\n",
    "# Calculate correlation matrix\n",
    "correlation_matrix = numerical_cols.corr()\n",
    "\n",
    "# Create an interactive heatmap\n",
    "heatmap = ff.create_annotated_heatmap(\n",
    "    z=correlation_matrix.values,\n",
    "    x=list(correlation_matrix.columns),\n",
    "    y=list(correlation_matrix.index),\n",
    "    colorscale='Viridis',\n",
    "    annotation_text=correlation_matrix.round(2).values,\n",
    "    hoverinfo='z'\n",
    ")\n",
    "\n",
    "heatmap.update_layout(title='Correlation Heatmap of Numerical Columns', width=1000, height=1100)\n",
    "\n",
    "# Display the heatmap\n",
    "display(heatmap)"
   ]
  }
 ],
 "metadata": {
  "kernelspec": {
   "display_name": "base",
   "language": "python",
   "name": "python3"
  },
  "language_info": {
   "codemirror_mode": {
    "name": "ipython",
    "version": 3
   },
   "file_extension": ".py",
   "mimetype": "text/x-python",
   "name": "python",
   "nbconvert_exporter": "python",
   "pygments_lexer": "ipython3",
   "version": "3.11.7"
  }
 },
 "nbformat": 4,
 "nbformat_minor": 2
}
