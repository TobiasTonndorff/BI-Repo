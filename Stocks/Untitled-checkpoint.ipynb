{
 "cells": [
  {
   "cell_type": "code",
   "execution_count": 6,
   "id": "c6fb76a5",
   "metadata": {},
   "outputs": [],
   "source": [
    "# import pandas for structuring the data\n",
    "import pandas as pd\n",
    "\n",
    "# import numpy for numerical analysis\n",
    "import numpy as np\n",
    "\n",
    "# import libs for diagrams inline with the text\n",
    "import matplotlib.pyplot as plt\n",
    "%matplotlib inline\n",
    "import seaborn as sns\n",
    "\n",
    "# other utilities\n",
    "from sklearn import datasets, preprocessing, metrics"
   ]
  },
  {
   "cell_type": "code",
   "execution_count": 7,
   "id": "3d1afb4f",
   "metadata": {},
   "outputs": [],
   "source": [
    "# Load stock data from a JSON file into a pandas DataFrame\n",
    "df = pd.read_json(r'C:\\Users\\chz\\Documents\\BI Exercise\\BI miniprojekt 1\\stock_data_0.json')"
   ]
  },
  {
   "cell_type": "code",
   "execution_count": 8,
   "id": "1f540e20",
   "metadata": {},
   "outputs": [
    {
     "data": {
      "text/plain": [
       "(9543, 11)"
      ]
     },
     "execution_count": 8,
     "metadata": {},
     "output_type": "execute_result"
    }
   ],
   "source": [
    "# Display the number of rows and columns in the DataFrame to understand its size\n",
    "df.shape"
   ]
  },
  {
   "cell_type": "code",
   "execution_count": 9,
   "id": "f3f9f626",
   "metadata": {},
   "outputs": [
    {
     "data": {
      "text/plain": [
       "Index(['NAME', 'TYPE', 'COST', 'STRENGTH', 'WEAKNESS', 'OPPORTUNITIES',\n",
       "       'THREATS', 'P_LOW', 'P_HIGH', 'YEARLY_LOW', 'YEARLY_HIGH'],\n",
       "      dtype='object')"
      ]
     },
     "execution_count": 9,
     "metadata": {},
     "output_type": "execute_result"
    }
   ],
   "source": [
    "# List all column names to get an overview of the data fields\n",
    "df.columns"
   ]
  },
  {
   "cell_type": "code",
   "execution_count": 10,
   "id": "317f694a",
   "metadata": {},
   "outputs": [
    {
     "data": {
      "text/plain": [
       "['NAME',\n",
       " 'TYPE',\n",
       " 'COST',\n",
       " 'STRENGTH',\n",
       " 'WEAKNESS',\n",
       " 'OPPORTUNITIES',\n",
       " 'THREATS',\n",
       " 'P_LOW',\n",
       " 'P_HIGH',\n",
       " 'YEARLY_LOW',\n",
       " 'YEARLY_HIGH']"
      ]
     },
     "execution_count": 10,
     "metadata": {},
     "output_type": "execute_result"
    }
   ],
   "source": [
    "# Alternatively, list the DataFrame columns to confirm the output matches `df.columns`\n",
    "list(df)"
   ]
  },
  {
   "cell_type": "code",
   "execution_count": 11,
   "id": "b712f02c",
   "metadata": {},
   "outputs": [
    {
     "data": {
      "text/html": [
       "<div>\n",
       "<style scoped>\n",
       "    .dataframe tbody tr th:only-of-type {\n",
       "        vertical-align: middle;\n",
       "    }\n",
       "\n",
       "    .dataframe tbody tr th {\n",
       "        vertical-align: top;\n",
       "    }\n",
       "\n",
       "    .dataframe thead th {\n",
       "        text-align: right;\n",
       "    }\n",
       "</style>\n",
       "<table border=\"1\" class=\"dataframe\">\n",
       "  <thead>\n",
       "    <tr style=\"text-align: right;\">\n",
       "      <th></th>\n",
       "      <th>NAME</th>\n",
       "      <th>TYPE</th>\n",
       "      <th>COST</th>\n",
       "      <th>STRENGTH</th>\n",
       "      <th>WEAKNESS</th>\n",
       "      <th>OPPORTUNITIES</th>\n",
       "      <th>THREATS</th>\n",
       "      <th>P_LOW</th>\n",
       "      <th>P_HIGH</th>\n",
       "      <th>YEARLY_LOW</th>\n",
       "      <th>YEARLY_HIGH</th>\n",
       "    </tr>\n",
       "  </thead>\n",
       "  <tbody>\n",
       "    <tr>\n",
       "      <th>0</th>\n",
       "      <td>A &amp; M Febcon Ltd.</td>\n",
       "      <td>Miscellaneous</td>\n",
       "      <td>0.95</td>\n",
       "      <td>Company with Zero Promoter Pledge</td>\n",
       "      <td>Low Piotroski Score : Companies with weak fina...</td>\n",
       "      <td>Positive Breakout First Resistance ( LTP &gt; R1)</td>\n",
       "      <td>No Threat for this stock</td>\n",
       "      <td>0.87</td>\n",
       "      <td>0.95</td>\n",
       "      <td>0.85</td>\n",
       "      <td>2.36</td>\n",
       "    </tr>\n",
       "    <tr>\n",
       "      <th>1</th>\n",
       "      <td>A F Enterprises Ltd.</td>\n",
       "      <td>Finance - Investment</td>\n",
       "      <td>5.55</td>\n",
       "      <td>Growth in Net Profit with increasing Profit Ma...</td>\n",
       "      <td>Inefficient use of shareholder funds - ROE dec...</td>\n",
       "      <td>Turnaround companies- loss to profit QoQ</td>\n",
       "      <td>No Threat for this stock</td>\n",
       "      <td>5.21</td>\n",
       "      <td>5.70</td>\n",
       "      <td>4.30</td>\n",
       "      <td>23.25</td>\n",
       "    </tr>\n",
       "    <tr>\n",
       "      <th>2</th>\n",
       "      <td>A and M Jumbo Bags Ltd.</td>\n",
       "      <td>Containers &amp; Packaging</td>\n",
       "      <td>NaN</td>\n",
       "      <td>Company with Zero Promoter Pledge</td>\n",
       "      <td>Inefficient use of capital to generate profits...</td>\n",
       "      <td>Highest Recovery from 52 Week Low</td>\n",
       "      <td>No Threat for this stock</td>\n",
       "      <td>NaN</td>\n",
       "      <td>NaN</td>\n",
       "      <td>NaN</td>\n",
       "      <td>NaN</td>\n",
       "    </tr>\n",
       "    <tr>\n",
       "      <th>3</th>\n",
       "      <td>A G Universal Ltd.</td>\n",
       "      <td>Trading</td>\n",
       "      <td>NaN</td>\n",
       "      <td>Annual Net Profits improving for last 2 years</td>\n",
       "      <td>Companies with High Debt</td>\n",
       "      <td>Highest Recovery from 52 Week Low</td>\n",
       "      <td>No Threat for this stock</td>\n",
       "      <td>0.00</td>\n",
       "      <td>0.00</td>\n",
       "      <td>32.50</td>\n",
       "      <td>119.95</td>\n",
       "    </tr>\n",
       "    <tr>\n",
       "      <th>4</th>\n",
       "      <td>A K Spintex Ltd.</td>\n",
       "      <td>Textiles &amp; Apparel</td>\n",
       "      <td>138.00</td>\n",
       "      <td>Strong Momentum: Price above short, medium and...</td>\n",
       "      <td>Decline in Net Profit with falling Profit Marg...</td>\n",
       "      <td>Stock with Low PE (PE &lt; = 10)</td>\n",
       "      <td>No Threat for this stock</td>\n",
       "      <td>131.05</td>\n",
       "      <td>138.45</td>\n",
       "      <td>72.25</td>\n",
       "      <td>162.00</td>\n",
       "    </tr>\n",
       "  </tbody>\n",
       "</table>\n",
       "</div>"
      ],
      "text/plain": [
       "                      NAME                    TYPE    COST  \\\n",
       "0        A & M Febcon Ltd.           Miscellaneous    0.95   \n",
       "1     A F Enterprises Ltd.    Finance - Investment    5.55   \n",
       "2  A and M Jumbo Bags Ltd.  Containers & Packaging     NaN   \n",
       "3       A G Universal Ltd.                 Trading     NaN   \n",
       "4         A K Spintex Ltd.      Textiles & Apparel  138.00   \n",
       "\n",
       "                                            STRENGTH  \\\n",
       "0                  Company with Zero Promoter Pledge   \n",
       "1  Growth in Net Profit with increasing Profit Ma...   \n",
       "2                  Company with Zero Promoter Pledge   \n",
       "3      Annual Net Profits improving for last 2 years   \n",
       "4  Strong Momentum: Price above short, medium and...   \n",
       "\n",
       "                                            WEAKNESS  \\\n",
       "0  Low Piotroski Score : Companies with weak fina...   \n",
       "1  Inefficient use of shareholder funds - ROE dec...   \n",
       "2  Inefficient use of capital to generate profits...   \n",
       "3                           Companies with High Debt   \n",
       "4  Decline in Net Profit with falling Profit Marg...   \n",
       "\n",
       "                                     OPPORTUNITIES                   THREATS  \\\n",
       "0  Positive Breakout First Resistance ( LTP > R1)   No Threat for this stock   \n",
       "1        Turnaround companies- loss to profit QoQ   No Threat for this stock   \n",
       "2               Highest Recovery from 52 Week Low   No Threat for this stock   \n",
       "3               Highest Recovery from 52 Week Low   No Threat for this stock   \n",
       "4                   Stock with Low PE (PE < = 10)   No Threat for this stock   \n",
       "\n",
       "    P_LOW  P_HIGH  YEARLY_LOW  YEARLY_HIGH  \n",
       "0    0.87    0.95        0.85         2.36  \n",
       "1    5.21    5.70        4.30        23.25  \n",
       "2     NaN     NaN         NaN          NaN  \n",
       "3    0.00    0.00       32.50       119.95  \n",
       "4  131.05  138.45       72.25       162.00  "
      ]
     },
     "execution_count": 11,
     "metadata": {},
     "output_type": "execute_result"
    }
   ],
   "source": [
    "# Display the first few rows of the DataFrame for a quick data inspection\n",
    "df.head()"
   ]
  },
  {
   "cell_type": "code",
   "execution_count": 12,
   "id": "c4ebb7f4",
   "metadata": {
    "scrolled": true
   },
   "outputs": [
    {
     "data": {
      "text/plain": [
       "NAME                0\n",
       "TYPE             3289\n",
       "COST             4320\n",
       "STRENGTH            0\n",
       "WEAKNESS            0\n",
       "OPPORTUNITIES       0\n",
       "THREATS             0\n",
       "P_LOW            3246\n",
       "P_HIGH           3246\n",
       "YEARLY_LOW       3297\n",
       "YEARLY_HIGH      3297\n",
       "dtype: int64"
      ]
     },
     "execution_count": 12,
     "metadata": {},
     "output_type": "execute_result"
    }
   ],
   "source": [
    "# Check for and sum up all null values in each column to identify missing data\n",
    "df.isnull().sum()"
   ]
  },
  {
   "cell_type": "code",
   "execution_count": 13,
   "id": "a0ebea22",
   "metadata": {},
   "outputs": [],
   "source": [
    "# Remove rows with missing 'COST' values and create a cleaned DataFrame\n",
    "df_cleaned = df.dropna(subset=['COST'])"
   ]
  },
  {
   "cell_type": "code",
   "execution_count": 14,
   "id": "74154b15",
   "metadata": {},
   "outputs": [
    {
     "data": {
      "text/plain": [
       "NAME             5223\n",
       "TYPE             5125\n",
       "COST             5223\n",
       "STRENGTH         5223\n",
       "WEAKNESS         5223\n",
       "OPPORTUNITIES    5223\n",
       "THREATS          5223\n",
       "P_LOW            5221\n",
       "P_HIGH           5221\n",
       "YEARLY_LOW       5179\n",
       "YEARLY_HIGH      5179\n",
       "dtype: int64"
      ]
     },
     "execution_count": 14,
     "metadata": {},
     "output_type": "execute_result"
    }
   ],
   "source": [
    "# Count the number of entries in the cleaned DataFrame to assess data loss\n",
    "df_cleaned.count()\n"
   ]
  },
  {
   "cell_type": "code",
   "execution_count": 15,
   "id": "d0efadd9",
   "metadata": {},
   "outputs": [
    {
     "data": {
      "text/plain": [
       "NAME              0\n",
       "TYPE             98\n",
       "COST              0\n",
       "STRENGTH          0\n",
       "WEAKNESS          0\n",
       "OPPORTUNITIES     0\n",
       "THREATS           0\n",
       "P_LOW             2\n",
       "P_HIGH            2\n",
       "YEARLY_LOW       44\n",
       "YEARLY_HIGH      44\n",
       "dtype: int64"
      ]
     },
     "execution_count": 15,
     "metadata": {},
     "output_type": "execute_result"
    }
   ],
   "source": [
    "# Recheck for null values in the cleaned DataFrame to ensure 'COST' column is clean\n",
    "df_cleaned.isnull().sum()\n"
   ]
  },
  {
   "cell_type": "code",
   "execution_count": 16,
   "id": "4b74a7b8",
   "metadata": {},
   "outputs": [],
   "source": [
    "# Perform in-place removal of rows with missing 'COST' values in the original DataFrame\n",
    "df.dropna(subset=['COST'], inplace=True)"
   ]
  },
  {
   "cell_type": "code",
   "execution_count": 17,
   "id": "0d7be7ed",
   "metadata": {},
   "outputs": [
    {
     "data": {
      "text/plain": [
       "NAME             5223\n",
       "TYPE             5125\n",
       "COST             5223\n",
       "STRENGTH         5223\n",
       "WEAKNESS         5223\n",
       "OPPORTUNITIES    5223\n",
       "THREATS          5223\n",
       "P_LOW            5221\n",
       "P_HIGH           5221\n",
       "YEARLY_LOW       5179\n",
       "YEARLY_HIGH      5179\n",
       "dtype: int64"
      ]
     },
     "execution_count": 17,
     "metadata": {},
     "output_type": "execute_result"
    }
   ],
   "source": [
    "# Count the number of entries after cleaning to assess data loss\n",
    "df.count()\n"
   ]
  },
  {
   "cell_type": "code",
   "execution_count": 18,
   "id": "4241b5f2",
   "metadata": {},
   "outputs": [],
   "source": [
    "# Fill missing values in the 'TYPE' column with 'Non Defined' to maintain data integrity\n",
    "df[\"TYPE\"]=df[\"TYPE\"].fillna('Non Defined')\n"
   ]
  },
  {
   "cell_type": "code",
   "execution_count": 19,
   "id": "513b7154",
   "metadata": {},
   "outputs": [
    {
     "data": {
      "text/plain": [
       "NAME              0\n",
       "TYPE              0\n",
       "COST              0\n",
       "STRENGTH          0\n",
       "WEAKNESS          0\n",
       "OPPORTUNITIES     0\n",
       "THREATS           0\n",
       "P_LOW             2\n",
       "P_HIGH            2\n",
       "YEARLY_LOW       44\n",
       "YEARLY_HIGH      44\n",
       "dtype: int64"
      ]
     },
     "execution_count": 19,
     "metadata": {},
     "output_type": "execute_result"
    }
   ],
   "source": [
    "# Check again for null values to ensure no missing data in critical columns\n",
    "df.isnull().sum()"
   ]
  },
  {
   "cell_type": "code",
   "execution_count": 23,
   "id": "bdfcc006",
   "metadata": {},
   "outputs": [],
   "source": [
    "# Sequentially remove rows with missing values in other specified columns to further clean the data\n",
    "df_cleaned1 = df.dropna(subset=['P_LOW'])\n",
    "df_cleaned = df.dropna(subset=['P_HIGH'])\n",
    "df_cleaned = df.dropna(subset=['YEARLY_LOW'])\n",
    "df_cleaned = df.dropna(subset=['YEARLY_HIGH'])"
   ]
  },
  {
   "cell_type": "code",
   "execution_count": 27,
   "id": "e5ce74ff",
   "metadata": {},
   "outputs": [],
   "source": [
    "# Perform in-place removal of rows with missing values in specified columns to ensure dataset completeness\n",
    "df.dropna(subset=['P_LOW'], inplace=True)\n",
    "df.dropna(subset=['P_HIGH'], inplace=True)\n",
    "df.dropna(subset=['YEARLY_LOW'], inplace=True)\n",
    "df.dropna(subset=['YEARLY_HIGH'], inplace=True)"
   ]
  },
  {
   "cell_type": "code",
   "execution_count": 28,
   "id": "45b99626",
   "metadata": {},
   "outputs": [
    {
     "data": {
      "text/plain": [
       "NAME             0\n",
       "TYPE             0\n",
       "COST             0\n",
       "STRENGTH         0\n",
       "WEAKNESS         0\n",
       "OPPORTUNITIES    0\n",
       "THREATS          0\n",
       "P_LOW            0\n",
       "P_HIGH           0\n",
       "YEARLY_LOW       0\n",
       "YEARLY_HIGH      0\n",
       "dtype: int64"
      ]
     },
     "execution_count": 28,
     "metadata": {},
     "output_type": "execute_result"
    }
   ],
   "source": [
    "# Confirm the absence of null values across critical columns\n",
    "df.isnull().sum()"
   ]
  },
  {
   "cell_type": "code",
   "execution_count": 29,
   "id": "c1992a41",
   "metadata": {},
   "outputs": [],
   "source": [
    "# Remove the 'THREATS' column as it is deemed irrelevant to the analysis\n",
    "df = df.drop('THREATS', axis=1)"
   ]
  },
  {
   "cell_type": "code",
   "execution_count": 30,
   "id": "ae2b56f4",
   "metadata": {},
   "outputs": [
    {
     "data": {
      "text/plain": [
       "NAME             5179\n",
       "TYPE             5179\n",
       "COST             5179\n",
       "STRENGTH         5179\n",
       "WEAKNESS         5179\n",
       "OPPORTUNITIES    5179\n",
       "P_LOW            5179\n",
       "P_HIGH           5179\n",
       "YEARLY_LOW       5179\n",
       "YEARLY_HIGH      5179\n",
       "dtype: int64"
      ]
     },
     "execution_count": 30,
     "metadata": {},
     "output_type": "execute_result"
    }
   ],
   "source": [
    "# Count the number of entries post-cleanup to assess final dataset size\n",
    "df.count()"
   ]
  },
  {
   "cell_type": "code",
   "execution_count": 31,
   "id": "8877dce2",
   "metadata": {},
   "outputs": [
    {
     "data": {
      "text/plain": [
       "(5179, 10)"
      ]
     },
     "execution_count": 31,
     "metadata": {},
     "output_type": "execute_result"
    }
   ],
   "source": [
    "# Display the updated shape of the DataFrame\n",
    "df.shape"
   ]
  },
  {
   "cell_type": "code",
   "execution_count": 32,
   "id": "d4122030",
   "metadata": {},
   "outputs": [
    {
     "data": {
      "text/plain": [
       "Index(['NAME', 'TYPE', 'COST', 'STRENGTH', 'WEAKNESS', 'OPPORTUNITIES',\n",
       "       'P_LOW', 'P_HIGH', 'YEARLY_LOW', 'YEARLY_HIGH'],\n",
       "      dtype='object')"
      ]
     },
     "execution_count": 32,
     "metadata": {},
     "output_type": "execute_result"
    }
   ],
   "source": [
    "# List updated columns to verify the removal of 'THREATS'\n",
    "df.columns\n"
   ]
  },
  {
   "cell_type": "code",
   "execution_count": 33,
   "id": "919427c3",
   "metadata": {},
   "outputs": [
    {
     "data": {
      "text/plain": [
       "['NAME',\n",
       " 'TYPE',\n",
       " 'COST',\n",
       " 'STRENGTH',\n",
       " 'WEAKNESS',\n",
       " 'OPPORTUNITIES',\n",
       " 'P_LOW',\n",
       " 'P_HIGH',\n",
       " 'YEARLY_LOW',\n",
       " 'YEARLY_HIGH']"
      ]
     },
     "execution_count": 33,
     "metadata": {},
     "output_type": "execute_result"
    }
   ],
   "source": [
    "# Confirm updated column list matches expectations\n",
    "list(df)"
   ]
  },
  {
   "cell_type": "code",
   "execution_count": 34,
   "id": "78816ed3",
   "metadata": {
    "scrolled": false
   },
   "outputs": [
    {
     "data": {
      "text/html": [
       "<div>\n",
       "<style scoped>\n",
       "    .dataframe tbody tr th:only-of-type {\n",
       "        vertical-align: middle;\n",
       "    }\n",
       "\n",
       "    .dataframe tbody tr th {\n",
       "        vertical-align: top;\n",
       "    }\n",
       "\n",
       "    .dataframe thead th {\n",
       "        text-align: right;\n",
       "    }\n",
       "</style>\n",
       "<table border=\"1\" class=\"dataframe\">\n",
       "  <thead>\n",
       "    <tr style=\"text-align: right;\">\n",
       "      <th></th>\n",
       "      <th>NAME</th>\n",
       "      <th>TYPE</th>\n",
       "      <th>COST</th>\n",
       "      <th>STRENGTH</th>\n",
       "      <th>WEAKNESS</th>\n",
       "      <th>OPPORTUNITIES</th>\n",
       "      <th>P_LOW</th>\n",
       "      <th>P_HIGH</th>\n",
       "      <th>YEARLY_LOW</th>\n",
       "      <th>YEARLY_HIGH</th>\n",
       "    </tr>\n",
       "  </thead>\n",
       "  <tbody>\n",
       "    <tr>\n",
       "      <th>0</th>\n",
       "      <td>A &amp; M Febcon Ltd.</td>\n",
       "      <td>Miscellaneous</td>\n",
       "      <td>0.95</td>\n",
       "      <td>Company with Zero Promoter Pledge</td>\n",
       "      <td>Low Piotroski Score : Companies with weak fina...</td>\n",
       "      <td>Positive Breakout First Resistance ( LTP &gt; R1)</td>\n",
       "      <td>0.87</td>\n",
       "      <td>0.95</td>\n",
       "      <td>0.85</td>\n",
       "      <td>2.36</td>\n",
       "    </tr>\n",
       "    <tr>\n",
       "      <th>1</th>\n",
       "      <td>A F Enterprises Ltd.</td>\n",
       "      <td>Finance - Investment</td>\n",
       "      <td>5.55</td>\n",
       "      <td>Growth in Net Profit with increasing Profit Ma...</td>\n",
       "      <td>Inefficient use of shareholder funds - ROE dec...</td>\n",
       "      <td>Turnaround companies- loss to profit QoQ</td>\n",
       "      <td>5.21</td>\n",
       "      <td>5.70</td>\n",
       "      <td>4.30</td>\n",
       "      <td>23.25</td>\n",
       "    </tr>\n",
       "    <tr>\n",
       "      <th>4</th>\n",
       "      <td>A K Spintex Ltd.</td>\n",
       "      <td>Textiles &amp; Apparel</td>\n",
       "      <td>138.00</td>\n",
       "      <td>Strong Momentum: Price above short, medium and...</td>\n",
       "      <td>Decline in Net Profit with falling Profit Marg...</td>\n",
       "      <td>Stock with Low PE (PE &lt; = 10)</td>\n",
       "      <td>131.05</td>\n",
       "      <td>138.45</td>\n",
       "      <td>72.25</td>\n",
       "      <td>162.00</td>\n",
       "    </tr>\n",
       "    <tr>\n",
       "      <th>5</th>\n",
       "      <td>A2Z Infra Engineering  Ltd.</td>\n",
       "      <td>Infrastructure</td>\n",
       "      <td>13.81</td>\n",
       "      <td>Strong Momentum: Price above short, medium and...</td>\n",
       "      <td>Inefficient use of shareholder funds - ROE dec...</td>\n",
       "      <td>Highest Recovery from 52 Week Low</td>\n",
       "      <td>13.55</td>\n",
       "      <td>13.75</td>\n",
       "      <td>5.10</td>\n",
       "      <td>15.15</td>\n",
       "    </tr>\n",
       "    <tr>\n",
       "      <th>8</th>\n",
       "      <td>AAA Technologies Ltd.</td>\n",
       "      <td>Software</td>\n",
       "      <td>97.65</td>\n",
       "      <td>Strong Momentum: Price above short, medium and...</td>\n",
       "      <td>Declining Net Cash Flow : Companies not able t...</td>\n",
       "      <td>Negative to Positive growth in Sales and Profi...</td>\n",
       "      <td>98.50</td>\n",
       "      <td>100.00</td>\n",
       "      <td>41.85</td>\n",
       "      <td>108.00</td>\n",
       "    </tr>\n",
       "  </tbody>\n",
       "</table>\n",
       "</div>"
      ],
      "text/plain": [
       "                          NAME                  TYPE    COST  \\\n",
       "0            A & M Febcon Ltd.         Miscellaneous    0.95   \n",
       "1         A F Enterprises Ltd.  Finance - Investment    5.55   \n",
       "4             A K Spintex Ltd.    Textiles & Apparel  138.00   \n",
       "5  A2Z Infra Engineering  Ltd.        Infrastructure   13.81   \n",
       "8        AAA Technologies Ltd.              Software   97.65   \n",
       "\n",
       "                                            STRENGTH  \\\n",
       "0                  Company with Zero Promoter Pledge   \n",
       "1  Growth in Net Profit with increasing Profit Ma...   \n",
       "4  Strong Momentum: Price above short, medium and...   \n",
       "5  Strong Momentum: Price above short, medium and...   \n",
       "8  Strong Momentum: Price above short, medium and...   \n",
       "\n",
       "                                            WEAKNESS  \\\n",
       "0  Low Piotroski Score : Companies with weak fina...   \n",
       "1  Inefficient use of shareholder funds - ROE dec...   \n",
       "4  Decline in Net Profit with falling Profit Marg...   \n",
       "5  Inefficient use of shareholder funds - ROE dec...   \n",
       "8  Declining Net Cash Flow : Companies not able t...   \n",
       "\n",
       "                                       OPPORTUNITIES   P_LOW  P_HIGH  \\\n",
       "0    Positive Breakout First Resistance ( LTP > R1)     0.87    0.95   \n",
       "1          Turnaround companies- loss to profit QoQ     5.21    5.70   \n",
       "4                     Stock with Low PE (PE < = 10)   131.05  138.45   \n",
       "5                 Highest Recovery from 52 Week Low    13.55   13.75   \n",
       "8  Negative to Positive growth in Sales and Profi...   98.50  100.00   \n",
       "\n",
       "   YEARLY_LOW  YEARLY_HIGH  \n",
       "0        0.85         2.36  \n",
       "1        4.30        23.25  \n",
       "4       72.25       162.00  \n",
       "5        5.10        15.15  \n",
       "8       41.85       108.00  "
      ]
     },
     "execution_count": 34,
     "metadata": {},
     "output_type": "execute_result"
    }
   ],
   "source": [
    "# Display the first few rows of the cleaned DataFrame for final inspection\n",
    "df.head()"
   ]
  },
  {
   "cell_type": "code",
   "execution_count": 38,
   "id": "040b127f",
   "metadata": {},
   "outputs": [
    {
     "data": {
      "text/html": [
       "<div>\n",
       "<style scoped>\n",
       "    .dataframe tbody tr th:only-of-type {\n",
       "        vertical-align: middle;\n",
       "    }\n",
       "\n",
       "    .dataframe tbody tr th {\n",
       "        vertical-align: top;\n",
       "    }\n",
       "\n",
       "    .dataframe thead th {\n",
       "        text-align: right;\n",
       "    }\n",
       "</style>\n",
       "<table border=\"1\" class=\"dataframe\">\n",
       "  <thead>\n",
       "    <tr style=\"text-align: right;\">\n",
       "      <th></th>\n",
       "      <th>COST</th>\n",
       "      <th>P_LOW</th>\n",
       "      <th>P_HIGH</th>\n",
       "      <th>YEARLY_LOW</th>\n",
       "      <th>YEARLY_HIGH</th>\n",
       "    </tr>\n",
       "  </thead>\n",
       "  <tbody>\n",
       "    <tr>\n",
       "      <th>count</th>\n",
       "      <td>5179.000000</td>\n",
       "      <td>5179.000000</td>\n",
       "      <td>5179.000000</td>\n",
       "      <td>5179.000000</td>\n",
       "      <td>5179.000000</td>\n",
       "    </tr>\n",
       "    <tr>\n",
       "      <th>mean</th>\n",
       "      <td>132.431274</td>\n",
       "      <td>132.848857</td>\n",
       "      <td>137.611784</td>\n",
       "      <td>72.463352</td>\n",
       "      <td>164.506376</td>\n",
       "    </tr>\n",
       "    <tr>\n",
       "      <th>std</th>\n",
       "      <td>208.343671</td>\n",
       "      <td>207.539242</td>\n",
       "      <td>214.243928</td>\n",
       "      <td>130.291568</td>\n",
       "      <td>262.569171</td>\n",
       "    </tr>\n",
       "    <tr>\n",
       "      <th>min</th>\n",
       "      <td>0.000000</td>\n",
       "      <td>0.000000</td>\n",
       "      <td>0.000000</td>\n",
       "      <td>0.000000</td>\n",
       "      <td>0.000000</td>\n",
       "    </tr>\n",
       "    <tr>\n",
       "      <th>25%</th>\n",
       "      <td>5.035000</td>\n",
       "      <td>6.010000</td>\n",
       "      <td>6.255000</td>\n",
       "      <td>3.610000</td>\n",
       "      <td>10.500000</td>\n",
       "    </tr>\n",
       "    <tr>\n",
       "      <th>50%</th>\n",
       "      <td>34.200000</td>\n",
       "      <td>35.600000</td>\n",
       "      <td>37.040000</td>\n",
       "      <td>16.400000</td>\n",
       "      <td>51.190000</td>\n",
       "    </tr>\n",
       "    <tr>\n",
       "      <th>75%</th>\n",
       "      <td>157.900000</td>\n",
       "      <td>160.150000</td>\n",
       "      <td>164.950000</td>\n",
       "      <td>75.900000</td>\n",
       "      <td>195.000000</td>\n",
       "    </tr>\n",
       "    <tr>\n",
       "      <th>max</th>\n",
       "      <td>999.990000</td>\n",
       "      <td>1759.600000</td>\n",
       "      <td>1759.600000</td>\n",
       "      <td>2505.300000</td>\n",
       "      <td>5800.000000</td>\n",
       "    </tr>\n",
       "  </tbody>\n",
       "</table>\n",
       "</div>"
      ],
      "text/plain": [
       "              COST        P_LOW       P_HIGH   YEARLY_LOW  YEARLY_HIGH\n",
       "count  5179.000000  5179.000000  5179.000000  5179.000000  5179.000000\n",
       "mean    132.431274   132.848857   137.611784    72.463352   164.506376\n",
       "std     208.343671   207.539242   214.243928   130.291568   262.569171\n",
       "min       0.000000     0.000000     0.000000     0.000000     0.000000\n",
       "25%       5.035000     6.010000     6.255000     3.610000    10.500000\n",
       "50%      34.200000    35.600000    37.040000    16.400000    51.190000\n",
       "75%     157.900000   160.150000   164.950000    75.900000   195.000000\n",
       "max     999.990000  1759.600000  1759.600000  2505.300000  5800.000000"
      ]
     },
     "execution_count": 38,
     "metadata": {},
     "output_type": "execute_result"
    }
   ],
   "source": [
    "# Generate descriptive statistics for numerical columns to get an overview of data distribution\n",
    "df.describe()\n"
   ]
  },
  {
   "cell_type": "code",
   "execution_count": 39,
   "id": "975cba6d",
   "metadata": {},
   "outputs": [
    {
     "data": {
      "text/plain": [
       "132.4312743772929"
      ]
     },
     "execution_count": 39,
     "metadata": {},
     "output_type": "execute_result"
    }
   ],
   "source": [
    "# Calculate and display the mean of the 'COST' column\n",
    "np.mean(df.COST)"
   ]
  },
  {
   "cell_type": "code",
   "execution_count": 40,
   "id": "9b0d9f7c",
   "metadata": {},
   "outputs": [],
   "source": [
    "# Calculate the number of unique stock types in the dataset\n",
    "unique_stock_types = df['TYPE'].nunique()"
   ]
  },
  {
   "cell_type": "code",
   "execution_count": null,
   "id": "b6c8a465",
   "metadata": {},
   "outputs": [
    {
     "name": "stdout",
     "output_type": "stream",
     "text": [
      "265\n"
     ]
    }
   ],
   "source": [
    "# Print the number of unique stock types for insight\n",
    "print(unique_stock_types)\n"
   ]
  },
  {
   "cell_type": "code",
   "execution_count": null,
   "id": "04299a51",
   "metadata": {},
   "outputs": [
    {
     "data": {
      "text/plain": [
       "TYPE\n",
       "Aerospace & Defence               387.210000\n",
       "Agriculture                       135.406400\n",
       "Air Conditioners                  141.380000\n",
       "Airlines                           62.280000\n",
       "Aluminium & Aluminium Products     65.909048\n",
       "                                     ...    \n",
       "Vegetable Oils & Products          90.573077\n",
       "Watches & Accessories             158.400000\n",
       "Wood & Wood Products              168.884000\n",
       "diversified                        88.130000\n",
       "other agriculture products         25.026000\n",
       "Name: COST, Length: 265, dtype: float64"
      ]
     },
     "execution_count": 42,
     "metadata": {},
     "output_type": "execute_result"
    }
   ],
   "source": [
    "# Group data by 'TYPE' and calculate the mean 'COST' for each group for comparative analysis\n",
    "df.groupby(\"TYPE\")[\"COST\"].mean()\n"
   ]
  },
  {
   "cell_type": "code",
   "execution_count": 43,
   "id": "713fc1f4",
   "metadata": {},
   "outputs": [
    {
     "data": {
      "text/plain": [
       "82.62462002412545"
      ]
     },
     "execution_count": 43,
     "metadata": {},
     "output_type": "execute_result"
    }
   ],
   "source": [
    "# Calculate a trimmed mean for 'COST' to reduce the influence of outliers\n",
    "from scipy import stats as st\n",
    "st.trim_mean(df.COST,0.1)\n"
   ]
  },
  {
   "cell_type": "code",
   "execution_count": 49,
   "id": "2603cad6",
   "metadata": {},
   "outputs": [
    {
     "data": {
      "text/plain": [
       "<Axes: ylabel='Frequency'>"
      ]
     },
     "execution_count": 49,
     "metadata": {},
     "output_type": "execute_result"
    },
    {
     "data": {
      "image/png": "[encoded data removed]",
      "text/plain": [
       "<Figure size 640x480 with 1 Axes>"
      ]
     },
     "metadata": {},
     "output_type": "display_data"
    }
   ],
   "source": [
    "df.COST.plot.hist()"
   ]
  },
  {
   "cell_type": "code",
   "execution_count": 50,
   "id": "945036d9",
   "metadata": {},
   "outputs": [
    {
     "data": {
      "text/plain": [
       "<Axes: xlabel='COST', ylabel='Density'>"
      ]
     },
     "execution_count": 50,
     "metadata": {},
     "output_type": "execute_result"
    },
    {
     "data": {
      "image/png": "[encoded data removed]",
      "text/plain": [
       "<Figure size 640x480 with 1 Axes>"
      ]
     },
     "metadata": {},
     "output_type": "display_data"
    }
   ],
   "source": [
    "sns.kdeplot(df.COST)"
   ]
  }
 ],
 "metadata": {
  "kernelspec": {
   "display_name": "Python 3 (ipykernel)",
   "language": "python",
   "name": "python3"
  },
  "language_info": {
   "codemirror_mode": {
    "name": "ipython",
    "version": 3
   },
   "file_extension": ".py",
   "mimetype": "text/x-python",
   "name": "python",
   "nbconvert_exporter": "python",
   "pygments_lexer": "ipython3",
   "version": "3.11.5"
  }
 },
 "nbformat": 4,
 "nbformat_minor": 5
}
